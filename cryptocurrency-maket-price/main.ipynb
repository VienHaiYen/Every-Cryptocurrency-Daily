{
 "cells": [
  {
   "attachments": {},
   "cell_type": "markdown",
   "metadata": {},
   "source": [
    "# LAB 02: Cryptocurrency Daily Market Price"
   ]
  },
  {
   "attachments": {},
   "cell_type": "markdown",
   "metadata": {},
   "source": [
    "## Thông tin người thực hiện\n",
    "|  MSSV |Họ và tên   |\n",
    "|---|---|\n",
    "|  20120095 |Ngô Quang Hưng   |\n",
    "|  20120519|Nguyễn Thị Thúy Liễu   |\n",
    "|  20120540|Võ Hoàng Thảo Nguyên   |\n",
    "|  20120633|Viên Hải Yến   |\n",
    "|  20120634|Lê Minh Trí   |\n"
   ]
  },
  {
   "attachments": {},
   "cell_type": "markdown",
   "metadata": {},
   "source": [
    "## Mô tả đồ án"
   ]
  },
  {
   "cell_type": "markdown",
   "metadata": {},
   "source": []
  },
  {
   "attachments": {},
   "cell_type": "markdown",
   "metadata": {},
   "source": [
    "Import các thư viện"
   ]
  },
  {
   "cell_type": "code",
   "execution_count": 12,
   "metadata": {},
   "outputs": [],
   "source": [
    "import numpy as np\n",
    "import pandas as pd\n",
    "import seaborn as sns\n",
    "import matplotlib.pyplot as plt\n",
    "import plotly.express as px\n",
    "from datetime import datetime, timedelta\n",
    "import warnings"
   ]
  },
  {
   "attachments": {},
   "cell_type": "markdown",
   "metadata": {},
   "source": [
    "### <span style=\"color:yellow\"> A. Thu thập dữ liệu</span>"
   ]
  },
  {
   "attachments": {},
   "cell_type": "markdown",
   "metadata": {},
   "source": [
    "#### Ngữ cảnh thực hiện tìm kiếm dữ liệu"
   ]
  },
  {
   "attachments": {},
   "cell_type": "markdown",
   "metadata": {},
   "source": [
    "Đây là thời đại công nghê số nơi mà thị trường điện tử phát triển mạnh mẽ và được nhiều người biết đến. Dataset này cung cấp thông tin chi tiết về lịch sử giao dịch của các loại tiền điện tử, bao gồm các chỉ số quan trọng như giá mở, giá cao, giá thấp, giá đóng cửa, khối lượng giao dịch và vốn hóa thị trường, ...\\\n",
    "Bộ dữ liệu lưu trữ trong khoảng thời gian từ năm 2013-2018 về nhiều loại tiền ảo ở các thời gian gần nhau để thấy được sự chênh lệch trong các khoảng thời gian xác định."
   ]
  },
  {
   "attachments": {},
   "cell_type": "markdown",
   "metadata": {},
   "source": [
    "#### Chủ đề"
   ]
  },
  {
   "attachments": {},
   "cell_type": "markdown",
   "metadata": {},
   "source": [
    "Time-series, phân tích độ trending, rủi ro, tầm phát triển, thay đổi của thị trường Crypo từ năm 2013-2018"
   ]
  },
  {
   "attachments": {},
   "cell_type": "markdown",
   "metadata": {},
   "source": [
    "#### Nguồn"
   ]
  },
  {
   "attachments": {},
   "cell_type": "markdown",
   "metadata": {},
   "source": [
    "Dataset trên Kaggle: [Tại đây](https://www.kaggle.com/datasets/jessevent/all-crypto-currencies?fbclid=IwAR1ClYMb9dVjpBwOPuqJfWkRf5gLsukrWscsuV_okKL4X6Q9e7JkjcGtdQ8)"
   ]
  },
  {
   "attachments": {},
   "cell_type": "markdown",
   "metadata": {},
   "source": [
    "#### Người ta có cho phép sử dụng dữ liệu như thế này hay không?"
   ]
  },
  {
   "attachments": {},
   "cell_type": "markdown",
   "metadata": {},
   "source": [
    "Theo thông tin License của dữ liệu, người dùng được phép tự do chia sẻ, sửa đổi và sử dụng dữ liệu trong khi duy trì sự tự do tương tự cho người dùng khác."
   ]
  },
  {
   "attachments": {},
   "cell_type": "markdown",
   "metadata": {},
   "source": [
    "#### Người ta đã thu thập dữ liệu này như thế nào? Phương pháp thực hiện là gì?"
   ]
  },
  {
   "attachments": {},
   "cell_type": "markdown",
   "metadata": {},
   "source": [
    "Phương pháp thu thập dữ liệu:\n",
    "- Thu thập thông tin bằng code và sử dụng CRAN của R (lưu trữ trực tuyến thường được sử dụng với R packages và các tài nguyên R khác).\n",
    "- Do đó, có những cải tiến đáng kể về cách một số chuyển đổi trường đã được thực hiện và dữ liệu được làm sạch."
   ]
  },
  {
   "attachments": {},
   "cell_type": "markdown",
   "metadata": {},
   "source": [
    "#### Đọc dữ liệu"
   ]
  },
  {
   "cell_type": "code",
   "execution_count": 13,
   "metadata": {},
   "outputs": [
    {
     "data": {
      "text/html": [
       "<div>\n",
       "<style scoped>\n",
       "    .dataframe tbody tr th:only-of-type {\n",
       "        vertical-align: middle;\n",
       "    }\n",
       "\n",
       "    .dataframe tbody tr th {\n",
       "        vertical-align: top;\n",
       "    }\n",
       "\n",
       "    .dataframe thead th {\n",
       "        text-align: right;\n",
       "    }\n",
       "</style>\n",
       "<table border=\"1\" class=\"dataframe\">\n",
       "  <thead>\n",
       "    <tr style=\"text-align: right;\">\n",
       "      <th></th>\n",
       "      <th>slug</th>\n",
       "      <th>symbol</th>\n",
       "      <th>name</th>\n",
       "      <th>ranknow</th>\n",
       "      <th>open</th>\n",
       "      <th>high</th>\n",
       "      <th>low</th>\n",
       "      <th>close</th>\n",
       "      <th>volume</th>\n",
       "      <th>market</th>\n",
       "      <th>close_ratio</th>\n",
       "      <th>spread</th>\n",
       "    </tr>\n",
       "    <tr>\n",
       "      <th>date</th>\n",
       "      <th></th>\n",
       "      <th></th>\n",
       "      <th></th>\n",
       "      <th></th>\n",
       "      <th></th>\n",
       "      <th></th>\n",
       "      <th></th>\n",
       "      <th></th>\n",
       "      <th></th>\n",
       "      <th></th>\n",
       "      <th></th>\n",
       "      <th></th>\n",
       "    </tr>\n",
       "  </thead>\n",
       "  <tbody>\n",
       "    <tr>\n",
       "      <th>2013-04-28</th>\n",
       "      <td>bitcoin</td>\n",
       "      <td>BTC</td>\n",
       "      <td>Bitcoin</td>\n",
       "      <td>1</td>\n",
       "      <td>135.30</td>\n",
       "      <td>135.98</td>\n",
       "      <td>132.10</td>\n",
       "      <td>134.21</td>\n",
       "      <td>0.0</td>\n",
       "      <td>1.488567e+09</td>\n",
       "      <td>0.5438</td>\n",
       "      <td>3.88</td>\n",
       "    </tr>\n",
       "    <tr>\n",
       "      <th>2013-04-29</th>\n",
       "      <td>bitcoin</td>\n",
       "      <td>BTC</td>\n",
       "      <td>Bitcoin</td>\n",
       "      <td>1</td>\n",
       "      <td>134.44</td>\n",
       "      <td>147.49</td>\n",
       "      <td>134.00</td>\n",
       "      <td>144.54</td>\n",
       "      <td>0.0</td>\n",
       "      <td>1.603769e+09</td>\n",
       "      <td>0.7813</td>\n",
       "      <td>13.49</td>\n",
       "    </tr>\n",
       "    <tr>\n",
       "      <th>2013-04-30</th>\n",
       "      <td>bitcoin</td>\n",
       "      <td>BTC</td>\n",
       "      <td>Bitcoin</td>\n",
       "      <td>1</td>\n",
       "      <td>144.00</td>\n",
       "      <td>146.93</td>\n",
       "      <td>134.05</td>\n",
       "      <td>139.00</td>\n",
       "      <td>0.0</td>\n",
       "      <td>1.542813e+09</td>\n",
       "      <td>0.3843</td>\n",
       "      <td>12.88</td>\n",
       "    </tr>\n",
       "    <tr>\n",
       "      <th>2013-05-01</th>\n",
       "      <td>bitcoin</td>\n",
       "      <td>BTC</td>\n",
       "      <td>Bitcoin</td>\n",
       "      <td>1</td>\n",
       "      <td>139.00</td>\n",
       "      <td>139.89</td>\n",
       "      <td>107.72</td>\n",
       "      <td>116.99</td>\n",
       "      <td>0.0</td>\n",
       "      <td>1.298955e+09</td>\n",
       "      <td>0.2882</td>\n",
       "      <td>32.17</td>\n",
       "    </tr>\n",
       "    <tr>\n",
       "      <th>2013-05-02</th>\n",
       "      <td>bitcoin</td>\n",
       "      <td>BTC</td>\n",
       "      <td>Bitcoin</td>\n",
       "      <td>1</td>\n",
       "      <td>116.38</td>\n",
       "      <td>125.60</td>\n",
       "      <td>92.28</td>\n",
       "      <td>105.21</td>\n",
       "      <td>0.0</td>\n",
       "      <td>1.168517e+09</td>\n",
       "      <td>0.3881</td>\n",
       "      <td>33.32</td>\n",
       "    </tr>\n",
       "  </tbody>\n",
       "</table>\n",
       "</div>"
      ],
      "text/plain": [
       "               slug symbol     name  ranknow    open    high     low   close  \\\n",
       "date                                                                           \n",
       "2013-04-28  bitcoin    BTC  Bitcoin        1  135.30  135.98  132.10  134.21   \n",
       "2013-04-29  bitcoin    BTC  Bitcoin        1  134.44  147.49  134.00  144.54   \n",
       "2013-04-30  bitcoin    BTC  Bitcoin        1  144.00  146.93  134.05  139.00   \n",
       "2013-05-01  bitcoin    BTC  Bitcoin        1  139.00  139.89  107.72  116.99   \n",
       "2013-05-02  bitcoin    BTC  Bitcoin        1  116.38  125.60   92.28  105.21   \n",
       "\n",
       "            volume        market  close_ratio  spread  \n",
       "date                                                   \n",
       "2013-04-28     0.0  1.488567e+09       0.5438    3.88  \n",
       "2013-04-29     0.0  1.603769e+09       0.7813   13.49  \n",
       "2013-04-30     0.0  1.542813e+09       0.3843   12.88  \n",
       "2013-05-01     0.0  1.298955e+09       0.2882   32.17  \n",
       "2013-05-02     0.0  1.168517e+09       0.3881   33.32  "
      ]
     },
     "execution_count": 13,
     "metadata": {},
     "output_type": "execute_result"
    }
   ],
   "source": [
    "# dateparse = lambda dates: pd.datetime.strptime(dates, '%Y-%m-%d')\n",
    "df = pd.read_csv('./dataset/crypto-markets.csv', parse_dates=['date'], index_col='date')\n",
    "df.head()"
   ]
  },
  {
   "attachments": {},
   "cell_type": "markdown",
   "metadata": {},
   "source": [
    "----"
   ]
  },
  {
   "attachments": {},
   "cell_type": "markdown",
   "metadata": {},
   "source": [
    "### <span style=\"color:yellow\"> B. Khám phá dữ liệu</span>"
   ]
  },
  {
   "attachments": {},
   "cell_type": "markdown",
   "metadata": {},
   "source": [
    "#### Mỗi dòng có ý nghĩa gì? Có vấn đề các dòng có ý nghĩa khác nhau không?"
   ]
  },
  {
   "attachments": {},
   "cell_type": "markdown",
   "metadata": {},
   "source": [
    "- Mỗi dòng chứa dữ liệu về một loại tiền ảo và các thông tin liên quan trong một thời điểm cụ thể. Thông tin bao gồm: thời gian công bố, tên loại tiền, tên viết tắt, xếp hạng, giá mở cửa, giá đóng cửa, giá cao nahastm giá thấp nhất, khối lượng giao dịch, vốn hoá thị trường, chênh lệch giữa giá mua và giá bán ,tỉ lệ đóng.\n",
    "\n",
    "- ví dụ dòng 1: tiền bitcoin có xếp hạng là 1, giá mở là 135.3, giá đóng là 134.21, giá cao nhất là 135.98, giá thấp nhất là 132.10, khối lượng giao dịch là 0, vốn hoá thị trường là 1.488567e+09, tỉ lệ đóng 0.5438, chênh lệch giá mua và giá bán là 3.88.\n",
    "\n",
    "- Không có tình trạng các dòng có ý nghĩa khác nhau.\n"
   ]
  },
  {
   "attachments": {},
   "cell_type": "markdown",
   "metadata": {},
   "source": [
    "#### Mỗi cột có ý nghĩa gì?"
   ]
  },
  {
   "cell_type": "code",
   "execution_count": 14,
   "metadata": {},
   "outputs": [
    {
     "name": "stdout",
     "output_type": "stream",
     "text": [
      "column  11 :  spread\n",
      "size:  942297\n",
      "number of values:  12454\n",
      "number of values (without nan):  12454\n",
      "data (without nan) :  3.88\n",
      "data (without nan) :  13.49\n",
      "data (without nan) :  12.88\n",
      "data (without nan) :  32.17\n",
      "0.0\n",
      "1770563.0\n",
      "8472.755946683797\n"
     ]
    }
   ],
   "source": [
    "column=11\n",
    "print(\"column \", column,\": \", df.columns[column])\n",
    "print(\"size: \", len(df.loc[:, df.columns[column]]))\n",
    "print(\"number of values: \", len(df.loc[:, df.columns[column]].unique()))\n",
    "\n",
    "arr= df.loc[:, df.columns[column]].unique()\n",
    "\n",
    "nanIndex=-1\n",
    "for index in range(len(arr)):\n",
    "    if isinstance(arr[index], float) and np.isnan(arr[index]):\n",
    "        nanIndex=index\n",
    "        break\n",
    "if nanIndex != -1:\n",
    "    arr=np.delete(arr,nanIndex)\n",
    "\n",
    "print(\"number of values (without nan): \", len(arr))\n",
    "print(\"data (without nan) : \", arr[0])\n",
    "print(\"data (without nan) : \", arr[1])\n",
    "print(\"data (without nan) : \", arr[2])\n",
    "print(\"data (without nan) : \", arr[3])\n",
    "\n",
    "print(min(arr))\n",
    "print(max(arr))\n",
    "print(np.mean(arr))\n",
    "# print(\"data (without nan) : \", ', '.join(arr))"
   ]
  },
  {
   "attachments": {},
   "cell_type": "markdown",
   "metadata": {},
   "source": [
    "#### Thông tin mỗi cột"
   ]
  },
  {
   "attachments": {},
   "cell_type": "markdown",
   "metadata": {},
   "source": [
    "- Slug: Tên loại tiền\n",
    "    - Kích thước: 942297\n",
    "    - Số lượng dữ liệu không trùng lắp: 2071\n",
    "    - Một số dữ liệu: bitcoin, ripple, ethereum, stellar, bitcoin-cash,...\n",
    "- symbol: tên viết tắt của loại tiền\n",
    "    - Kích thước: 942297\n",
    "    - Số lượng dữ liệu không trùng lắp: 2005\n",
    "    - Một số dữ liệu:  BTC, XRP, ETH, XLM, BCH, EOS, LTC, USDT, BSV, ADA,...\n",
    "- name: tên loại tiền\n",
    "    - Kích thước: 942297\n",
    "    - Số lượng dữ liệu không trùng lắp: 2071\n",
    "    - Một số dữ liệu:  Bitcoin, XRP, Ethereum, Stellar, Bitcoin Cash, EOS,...\n",
    "- ranknow: xếp hạng\n",
    "    - Kích thước: 942297\n",
    "    - Số lượng dữ liệu không trùng lắp: 2068\n",
    "    - Một số dữ liệu:  1,2,3,...,2070,2071,2072.\n",
    "- open: giá mở\n",
    "    - Kích thước: 942297\n",
    "    - Số lượng dữ liệu không trùng lắp: 266140\n",
    "    - Một số dữ liệu:  135.3, 134.44, 144.,...,23320.9, 24543.53, 22872.09\n",
    "    - min: 2.5e-09\n",
    "    - max: 2298390.0\n",
    "    - Trung bình: 1222.88\n",
    "- high: gía cao nhất\n",
    "    - Kích thước: 942297\n",
    "    - Số lượng dữ liệu không trùng lắp: 269676\n",
    "    - Một số dữ liệu:  135.98, 147.49, 146.93, ... ,25235.1,  24582.47, 23086.98\n",
    "    - min: 3.2e-09\n",
    "    - max: 2926100.0\n",
    "    - Trung bình: 1417.51\n",
    "- low: gía thấp nhất\n",
    "    - Kích thước: 942297\n",
    "    - Số lượng dữ liệu không trùng lắp: 263008\n",
    "    - Một số dữ liệu:  132.1, 134., 134.05, ... ,19888.1,  21457.95, 19040.91\n",
    "    - min: 2.5e-10\n",
    "    - max: 2030590.0\n",
    "    - Trung bình: 1052.11\n",
    "- close: gía đóng\n",
    "    - Kích thước: 942297\n",
    "    - Số lượng dữ liệu không trùng lắp: 265887\n",
    "    - Một số dữ liệu:  134.21, 144.54, 139., ... ,24442.7,  22839.44, 21136.72\n",
    "    - min: 2e-10\n",
    "    - max: 2300740.0\n",
    "    - Trung bình: 1215.35\n",
    "- volume: khối lượng giao dịch\n",
    "    - Kích thước: 942297\n",
    "    - Số lượng dữ liệu không trùng lắp: 300528\n",
    "    - Một số dữ liệu:  0, 46862700.0, 32505800.0, 19011300.0,...\n",
    "    - min: 0.0\n",
    "    - max: 23840899072.0\n",
    "    - Trung bình: 27175312.58\n",
    "- market: vốn hoá thị trường\n",
    "    - Kích thước: 942297\n",
    "    - Số lượng dữ liệu không trùng lắp: 660996\n",
    "    - Một số dữ liệu:  1488566728.0, 1603768865.0, 1542813125.0, 1298954594.0,...\n",
    "    - min: 0.0\n",
    "    - max: 326502485530.0\n",
    "    - Trung bình: 245833831.28\n",
    "- spread: chênh lệch giá mua và giá bán\n",
    "    - Kích thước: 942297\n",
    "    - Số lượng dữ liệu không trùng lắp: 12454\n",
    "    - Một số dữ liệu:  3.88, 13.49, 12.88, 32.17,...\n",
    "    - min: 0\n",
    "    - max: 1770563.0\n",
    "    - Trung bình: 8472.75\n",
    "- close_ratio: tỉ lệ đóng\n",
    "    - Kích thước: 942297\n",
    "    - Số lượng dữ liệu không trùng lắp: 10022\n",
    "    - Một số dữ liệu:  0.5438, 0.7813, 0.3843, 0.2882,...\n",
    "    - min: -1.0\n",
    "    - max: 1\n",
    "    - Trung bình: 0.49"
   ]
  },
  {
   "attachments": {},
   "cell_type": "markdown",
   "metadata": {},
   "source": [
    "#### Mỗi cột hiện đang có kiểu dữ liệu gì?"
   ]
  },
  {
   "cell_type": "code",
   "execution_count": 15,
   "metadata": {},
   "outputs": [
    {
     "data": {
      "text/plain": [
       "slug            object\n",
       "symbol          object\n",
       "name            object\n",
       "ranknow          int64\n",
       "open           float64\n",
       "high           float64\n",
       "low            float64\n",
       "close          float64\n",
       "volume         float64\n",
       "market         float64\n",
       "close_ratio    float64\n",
       "spread         float64\n",
       "dtype: object"
      ]
     },
     "execution_count": 15,
     "metadata": {},
     "output_type": "execute_result"
    }
   ],
   "source": [
    "df.dtypes"
   ]
  },
  {
   "cell_type": "code",
   "execution_count": 16,
   "metadata": {},
   "outputs": [
    {
     "name": "stdout",
     "output_type": "stream",
     "text": [
      "slug : {<class 'str'>}\n",
      "symbol : {<class 'str'>}\n",
      "name : {<class 'str'>}\n"
     ]
    }
   ],
   "source": [
    "object_columns = df.select_dtypes(include=['object']).columns\n",
    "for col in object_columns:\n",
    "    print(col,\":\",set(df[col].apply(type)))"
   ]
  },
  {
   "attachments": {},
   "cell_type": "markdown",
   "metadata": {},
   "source": [
    "#### Có cột nào có kiểu dữ liệu chưa phù hợp để có thể xử lý tiếp hay không?"
   ]
  },
  {
   "attachments": {},
   "cell_type": "markdown",
   "metadata": {},
   "source": [
    "Các cột đã ở kiểu dữ liệu phù hợp để phân tích"
   ]
  },
  {
   "attachments": {},
   "cell_type": "markdown",
   "metadata": {},
   "source": [
    "#### Phân bố dữ liệu ở các cột"
   ]
  },
  {
   "attachments": {},
   "cell_type": "markdown",
   "metadata": {},
   "source": [
    "##### Với mỗi cột có kiểu dữ liệu dạng numeric, các giá trị được phân bố như thế nào?"
   ]
  },
  {
   "cell_type": "code",
   "execution_count": 17,
   "metadata": {},
   "outputs": [
    {
     "data": {
      "text/html": [
       "<div>\n",
       "<style scoped>\n",
       "    .dataframe tbody tr th:only-of-type {\n",
       "        vertical-align: middle;\n",
       "    }\n",
       "\n",
       "    .dataframe tbody tr th {\n",
       "        vertical-align: top;\n",
       "    }\n",
       "\n",
       "    .dataframe thead th {\n",
       "        text-align: right;\n",
       "    }\n",
       "</style>\n",
       "<table border=\"1\" class=\"dataframe\">\n",
       "  <thead>\n",
       "    <tr style=\"text-align: right;\">\n",
       "      <th></th>\n",
       "      <th>ranknow</th>\n",
       "      <th>open</th>\n",
       "      <th>high</th>\n",
       "      <th>low</th>\n",
       "      <th>close</th>\n",
       "      <th>volume</th>\n",
       "      <th>market</th>\n",
       "      <th>close_ratio</th>\n",
       "      <th>spread</th>\n",
       "    </tr>\n",
       "  </thead>\n",
       "  <tbody>\n",
       "    <tr>\n",
       "      <th>count</th>\n",
       "      <td>942297.000000</td>\n",
       "      <td>9.422970e+05</td>\n",
       "      <td>9.422970e+05</td>\n",
       "      <td>9.422970e+05</td>\n",
       "      <td>9.422970e+05</td>\n",
       "      <td>9.422970e+05</td>\n",
       "      <td>9.422970e+05</td>\n",
       "      <td>942297.000000</td>\n",
       "      <td>9.422970e+05</td>\n",
       "    </tr>\n",
       "    <tr>\n",
       "      <th>mean</th>\n",
       "      <td>1000.170608</td>\n",
       "      <td>3.483522e+02</td>\n",
       "      <td>4.085930e+02</td>\n",
       "      <td>2.962526e+02</td>\n",
       "      <td>3.461018e+02</td>\n",
       "      <td>8.720383e+06</td>\n",
       "      <td>1.725060e+08</td>\n",
       "      <td>0.459499</td>\n",
       "      <td>1.123400e+02</td>\n",
       "    </tr>\n",
       "    <tr>\n",
       "      <th>std</th>\n",
       "      <td>587.575283</td>\n",
       "      <td>1.318436e+04</td>\n",
       "      <td>1.616386e+04</td>\n",
       "      <td>1.092931e+04</td>\n",
       "      <td>1.309822e+04</td>\n",
       "      <td>1.839802e+08</td>\n",
       "      <td>3.575590e+09</td>\n",
       "      <td>0.326160</td>\n",
       "      <td>6.783713e+03</td>\n",
       "    </tr>\n",
       "    <tr>\n",
       "      <th>min</th>\n",
       "      <td>1.000000</td>\n",
       "      <td>2.500000e-09</td>\n",
       "      <td>3.200000e-09</td>\n",
       "      <td>2.500000e-10</td>\n",
       "      <td>2.000000e-10</td>\n",
       "      <td>0.000000e+00</td>\n",
       "      <td>0.000000e+00</td>\n",
       "      <td>-1.000000</td>\n",
       "      <td>0.000000e+00</td>\n",
       "    </tr>\n",
       "    <tr>\n",
       "      <th>25%</th>\n",
       "      <td>465.000000</td>\n",
       "      <td>2.321000e-03</td>\n",
       "      <td>2.628000e-03</td>\n",
       "      <td>2.044000e-03</td>\n",
       "      <td>2.314000e-03</td>\n",
       "      <td>1.750000e+02</td>\n",
       "      <td>2.958100e+04</td>\n",
       "      <td>0.162900</td>\n",
       "      <td>0.000000e+00</td>\n",
       "    </tr>\n",
       "    <tr>\n",
       "      <th>50%</th>\n",
       "      <td>1072.000000</td>\n",
       "      <td>2.398300e-02</td>\n",
       "      <td>2.680200e-02</td>\n",
       "      <td>2.143700e-02</td>\n",
       "      <td>2.389200e-02</td>\n",
       "      <td>4.278000e+03</td>\n",
       "      <td>5.227960e+05</td>\n",
       "      <td>0.432400</td>\n",
       "      <td>0.000000e+00</td>\n",
       "    </tr>\n",
       "    <tr>\n",
       "      <th>75%</th>\n",
       "      <td>1484.000000</td>\n",
       "      <td>2.268600e-01</td>\n",
       "      <td>2.508940e-01</td>\n",
       "      <td>2.043910e-01</td>\n",
       "      <td>2.259340e-01</td>\n",
       "      <td>1.190900e+05</td>\n",
       "      <td>6.874647e+06</td>\n",
       "      <td>0.745800</td>\n",
       "      <td>3.000000e-02</td>\n",
       "    </tr>\n",
       "    <tr>\n",
       "      <th>max</th>\n",
       "      <td>2072.000000</td>\n",
       "      <td>2.298390e+06</td>\n",
       "      <td>2.926100e+06</td>\n",
       "      <td>2.030590e+06</td>\n",
       "      <td>2.300740e+06</td>\n",
       "      <td>2.384090e+10</td>\n",
       "      <td>3.265025e+11</td>\n",
       "      <td>1.000000</td>\n",
       "      <td>1.770563e+06</td>\n",
       "    </tr>\n",
       "    <tr>\n",
       "      <th>missing_ratio</th>\n",
       "      <td>0.000000</td>\n",
       "      <td>0.000000e+00</td>\n",
       "      <td>0.000000e+00</td>\n",
       "      <td>0.000000e+00</td>\n",
       "      <td>0.000000e+00</td>\n",
       "      <td>0.000000e+00</td>\n",
       "      <td>0.000000e+00</td>\n",
       "      <td>0.000000</td>\n",
       "      <td>0.000000e+00</td>\n",
       "    </tr>\n",
       "  </tbody>\n",
       "</table>\n",
       "</div>"
      ],
      "text/plain": [
       "                     ranknow          open          high           low  \\\n",
       "count          942297.000000  9.422970e+05  9.422970e+05  9.422970e+05   \n",
       "mean             1000.170608  3.483522e+02  4.085930e+02  2.962526e+02   \n",
       "std               587.575283  1.318436e+04  1.616386e+04  1.092931e+04   \n",
       "min                 1.000000  2.500000e-09  3.200000e-09  2.500000e-10   \n",
       "25%               465.000000  2.321000e-03  2.628000e-03  2.044000e-03   \n",
       "50%              1072.000000  2.398300e-02  2.680200e-02  2.143700e-02   \n",
       "75%              1484.000000  2.268600e-01  2.508940e-01  2.043910e-01   \n",
       "max              2072.000000  2.298390e+06  2.926100e+06  2.030590e+06   \n",
       "missing_ratio       0.000000  0.000000e+00  0.000000e+00  0.000000e+00   \n",
       "\n",
       "                      close        volume        market    close_ratio  \\\n",
       "count          9.422970e+05  9.422970e+05  9.422970e+05  942297.000000   \n",
       "mean           3.461018e+02  8.720383e+06  1.725060e+08       0.459499   \n",
       "std            1.309822e+04  1.839802e+08  3.575590e+09       0.326160   \n",
       "min            2.000000e-10  0.000000e+00  0.000000e+00      -1.000000   \n",
       "25%            2.314000e-03  1.750000e+02  2.958100e+04       0.162900   \n",
       "50%            2.389200e-02  4.278000e+03  5.227960e+05       0.432400   \n",
       "75%            2.259340e-01  1.190900e+05  6.874647e+06       0.745800   \n",
       "max            2.300740e+06  2.384090e+10  3.265025e+11       1.000000   \n",
       "missing_ratio  0.000000e+00  0.000000e+00  0.000000e+00       0.000000   \n",
       "\n",
       "                     spread  \n",
       "count          9.422970e+05  \n",
       "mean           1.123400e+02  \n",
       "std            6.783713e+03  \n",
       "min            0.000000e+00  \n",
       "25%            0.000000e+00  \n",
       "50%            0.000000e+00  \n",
       "75%            3.000000e-02  \n",
       "max            1.770563e+06  \n",
       "missing_ratio  0.000000e+00  "
      ]
     },
     "execution_count": 17,
     "metadata": {},
     "output_type": "execute_result"
    }
   ],
   "source": [
    "numerical_des = df.describe()\n",
    "missing_ratio = pd.DataFrame({col : df[col].isnull().sum() / len(df) for col in numerical_des.columns}, index=[\"missing_ratio\"])\n",
    "pd.concat([numerical_des,missing_ratio])"
   ]
  },
  {
   "attachments": {},
   "cell_type": "markdown",
   "metadata": {},
   "source": [
    "##### Với mỗi cột không có kiểu dữ liệu dạng categorical, các giá trị được phân bố như thế nào?"
   ]
  },
  {
   "cell_type": "code",
   "execution_count": 18,
   "metadata": {},
   "outputs": [
    {
     "data": {
      "text/html": [
       "<div>\n",
       "<style scoped>\n",
       "    .dataframe tbody tr th:only-of-type {\n",
       "        vertical-align: middle;\n",
       "    }\n",
       "\n",
       "    .dataframe tbody tr th {\n",
       "        vertical-align: top;\n",
       "    }\n",
       "\n",
       "    .dataframe thead th {\n",
       "        text-align: right;\n",
       "    }\n",
       "</style>\n",
       "<table border=\"1\" class=\"dataframe\">\n",
       "  <thead>\n",
       "    <tr style=\"text-align: right;\">\n",
       "      <th></th>\n",
       "      <th>slug</th>\n",
       "      <th>symbol</th>\n",
       "      <th>name</th>\n",
       "    </tr>\n",
       "  </thead>\n",
       "  <tbody>\n",
       "    <tr>\n",
       "      <th>missing_ratio</th>\n",
       "      <td>0.0</td>\n",
       "      <td>0.0</td>\n",
       "      <td>0.0</td>\n",
       "    </tr>\n",
       "    <tr>\n",
       "      <th>nums_of_vals</th>\n",
       "      <td>942297</td>\n",
       "      <td>942297</td>\n",
       "      <td>942297</td>\n",
       "    </tr>\n",
       "    <tr>\n",
       "      <th>num_diff_vals</th>\n",
       "      <td>2071</td>\n",
       "      <td>2005</td>\n",
       "      <td>2071</td>\n",
       "    </tr>\n",
       "    <tr>\n",
       "      <th>diff_vals</th>\n",
       "      <td>[bitcoin, ripple, ethereum, stellar, bitcoin-c...</td>\n",
       "      <td>[BTC, XRP, ETH, XLM, BCH, EOS, LTC, USDT, BSV,...</td>\n",
       "      <td>[Bitcoin, XRP, Ethereum, Stellar, Bitcoin Cash...</td>\n",
       "    </tr>\n",
       "  </tbody>\n",
       "</table>\n",
       "</div>"
      ],
      "text/plain": [
       "                                                            slug  \\\n",
       "missing_ratio                                                0.0   \n",
       "nums_of_vals                                              942297   \n",
       "num_diff_vals                                               2071   \n",
       "diff_vals      [bitcoin, ripple, ethereum, stellar, bitcoin-c...   \n",
       "\n",
       "                                                          symbol  \\\n",
       "missing_ratio                                                0.0   \n",
       "nums_of_vals                                              942297   \n",
       "num_diff_vals                                               2005   \n",
       "diff_vals      [BTC, XRP, ETH, XLM, BCH, EOS, LTC, USDT, BSV,...   \n",
       "\n",
       "                                                            name  \n",
       "missing_ratio                                                0.0  \n",
       "nums_of_vals                                              942297  \n",
       "num_diff_vals                                               2071  \n",
       "diff_vals      [Bitcoin, XRP, Ethereum, Stellar, Bitcoin Cash...  "
      ]
     },
     "metadata": {},
     "output_type": "display_data"
    }
   ],
   "source": [
    "cate_rows=[\"missing_ratio\",\"nums_of_vals\", \"num_diff_vals\",\"diff_vals\"]\n",
    "data_cate={}\n",
    "\n",
    "for col in df.columns:\n",
    "    if df[col].dtype == 'object':\n",
    "        row=[]\n",
    "        row.append(round(df[col].isnull().sum()/len(df[col])*100,3))\n",
    "        data_cate.update({f'{col}':row})\n",
    "\n",
    "        row.append(len(df[col].notna()))\n",
    "        row.append(len(df[col][df[col].notna()].unique()))\n",
    "        row.append(np.array(df[col][df[col].notna()].unique()))\n",
    "        data_cate.update({f'{col}':row})\n",
    "\n",
    "cate_col_df=pd.DataFrame(data_cate,index=cate_rows)\n",
    "display(cate_col_df)"
   ]
  },
  {
   "attachments": {},
   "cell_type": "markdown",
   "metadata": {},
   "source": [
    "#### Tiền xử lí dữ liệu"
   ]
  },
  {
   "cell_type": "code",
   "execution_count": 19,
   "metadata": {},
   "outputs": [
    {
     "name": "stdout",
     "output_type": "stream",
     "text": [
      "<class 'pandas.core.frame.DataFrame'>\n",
      "DatetimeIndex: 942297 entries, 2013-04-28 to 2018-11-30\n",
      "Data columns (total 12 columns):\n",
      " #   Column       Non-Null Count   Dtype  \n",
      "---  ------       --------------   -----  \n",
      " 0   slug         942297 non-null  object \n",
      " 1   symbol       942297 non-null  object \n",
      " 2   name         942297 non-null  object \n",
      " 3   ranknow      942297 non-null  int64  \n",
      " 4   open         942297 non-null  float64\n",
      " 5   high         942297 non-null  float64\n",
      " 6   low          942297 non-null  float64\n",
      " 7   close        942297 non-null  float64\n",
      " 8   volume       942297 non-null  float64\n",
      " 9   market       942297 non-null  float64\n",
      " 10  close_ratio  942297 non-null  float64\n",
      " 11  spread       942297 non-null  float64\n",
      "dtypes: float64(8), int64(1), object(3)\n",
      "memory usage: 93.5+ MB\n",
      "None\n",
      "             ranknow          open          high           low         close  \\\n",
      "count  942297.000000  9.422970e+05  9.422970e+05  9.422970e+05  9.422970e+05   \n",
      "mean     1000.170608  3.483522e+02  4.085930e+02  2.962526e+02  3.461018e+02   \n",
      "std       587.575283  1.318436e+04  1.616386e+04  1.092931e+04  1.309822e+04   \n",
      "min         1.000000  2.500000e-09  3.200000e-09  2.500000e-10  2.000000e-10   \n",
      "25%       465.000000  2.321000e-03  2.628000e-03  2.044000e-03  2.314000e-03   \n",
      "50%      1072.000000  2.398300e-02  2.680200e-02  2.143700e-02  2.389200e-02   \n",
      "75%      1484.000000  2.268600e-01  2.508940e-01  2.043910e-01  2.259340e-01   \n",
      "max      2072.000000  2.298390e+06  2.926100e+06  2.030590e+06  2.300740e+06   \n",
      "\n",
      "             volume        market    close_ratio        spread  \n",
      "count  9.422970e+05  9.422970e+05  942297.000000  9.422970e+05  \n",
      "mean   8.720383e+06  1.725060e+08       0.459499  1.123400e+02  \n",
      "std    1.839802e+08  3.575590e+09       0.326160  6.783713e+03  \n",
      "min    0.000000e+00  0.000000e+00      -1.000000  0.000000e+00  \n",
      "25%    1.750000e+02  2.958100e+04       0.162900  0.000000e+00  \n",
      "50%    4.278000e+03  5.227960e+05       0.432400  0.000000e+00  \n",
      "75%    1.190900e+05  6.874647e+06       0.745800  3.000000e-02  \n",
      "max    2.384090e+10  3.265025e+11       1.000000  1.770563e+06  \n",
      "slug           0\n",
      "symbol         0\n",
      "name           0\n",
      "ranknow        0\n",
      "open           0\n",
      "high           0\n",
      "low            0\n",
      "close          0\n",
      "volume         0\n",
      "market         0\n",
      "close_ratio    0\n",
      "spread         0\n",
      "dtype: int64\n",
      "1384\n",
      "2013-04-28 00:00:00\n",
      "2018-11-30 00:00:00\n"
     ]
    }
   ],
   "source": [
    "\n",
    "print(df.info())\n",
    "print(df.describe())\n",
    "# kiểm tra missing data\n",
    "print(df.isna().sum())\n",
    "\n",
    "# Kiểm tra có dữ liệu bị duplicate không\n",
    "print(str(df.duplicated().sum()))\n",
    "\n",
    "# Kiểm ra khoản thời gian của dữ liệu\n",
    "print(df.index.min())\n",
    "print(df.index.max())"
   ]
  },
  {
   "attachments": {},
   "cell_type": "markdown",
   "metadata": {},
   "source": [
    "- 0 Nan\n",
    "- 1380 duplicated\n",
    "- Dữ liệu thu thập được từ 2013-04-28 đến 2018-11-30\n",
    "\n",
    "Dữ liệu tương đối sạch ta chỉ cần phải tiền xử lý dữ liệu thêm 1 chút."
   ]
  },
  {
   "cell_type": "code",
   "execution_count": 20,
   "metadata": {},
   "outputs": [
    {
     "name": "stdout",
     "output_type": "stream",
     "text": [
      "               slug symbol     name  ranknow    open    high     low   close  \\\n",
      "date                                                                           \n",
      "2014-01-01  bitcoin    BTC  Bitcoin        1  754.97  775.35  754.97  771.40   \n",
      "2014-01-02  bitcoin    BTC  Bitcoin        1  773.44  820.31  767.21  802.39   \n",
      "2014-01-03  bitcoin    BTC  Bitcoin        1  802.85  834.15  789.12  818.72   \n",
      "2014-01-04  bitcoin    BTC  Bitcoin        1  823.27  859.51  801.67  859.51   \n",
      "2014-01-05  bitcoin    BTC  Bitcoin        1  858.55  952.40  854.52  933.53   \n",
      "\n",
      "                volume        market  close_ratio  spread  \n",
      "date                                                       \n",
      "2014-01-01  22489400.0  9.403308e+09       0.8062   20.38  \n",
      "2014-01-02  38489500.0  9.781074e+09       0.6625   53.10  \n",
      "2014-01-03  37810100.0  9.980135e+09       0.6573   45.03  \n",
      "2014-01-04  38005000.0  1.047736e+10       1.0000   57.84  \n",
      "2014-01-05  72898496.0  1.137966e+10       0.8072   97.88                    slug symbol       name  ranknow      open       high  \\\n",
      "date                                                                    \n",
      "2017-12-28  project-x  NANOX  Project-X     1727  853376.0  1217350.0   \n",
      "2017-12-29  project-x  NANOX  Project-X     1727  953410.0  1034770.0   \n",
      "2017-12-30  project-x  NANOX  Project-X     1727  710293.0   803780.0   \n",
      "2017-12-31  project-x  NANOX  Project-X     1727  433564.0   517624.0   \n",
      "2018-01-01  project-x  NANOX  Project-X     1727  433421.0   433717.0   \n",
      "\n",
      "                 low     close   volume   market  close_ratio    spread  \n",
      "date                                                                     \n",
      "2017-12-28  289847.0  943642.0  37305.0  73853.0       0.7049  927503.0  \n",
      "2017-12-29  502151.0  712084.0  23790.0  55731.0       0.3942  532619.0  \n",
      "2017-12-30  398776.0  438298.0  15726.0  34303.0       0.0976  405004.0  \n",
      "2017-12-31  407182.0  431750.0  12313.0  33790.0       0.2225  110442.0  \n",
      "2018-01-01  317219.0  320008.0  12166.0  25045.0       0.0239  116498.0  \n"
     ]
    }
   ],
   "source": [
    "# xữ lý dữ liệu duplicate và missing\n",
    "df.drop_duplicates(inplace=True)\n",
    "df.fillna(method='ffill', inplace=True)\n",
    "\n",
    "# chọn lấy dữ liệu từ 2014-01-01 đến 2018-01-01\n",
    "df=df.loc['2014-01-01':'2018-01-01']\n",
    "print(df.head(),df.tail())"
   ]
  },
  {
   "attachments": {},
   "cell_type": "markdown",
   "metadata": {},
   "source": [
    "### <span style=\"color:yellow\"> C. Khám phá mối quan hệ trong dữ liệu</span>"
   ]
  },
  {
   "attachments": {},
   "cell_type": "markdown",
   "metadata": {},
   "source": [
    "### Xu hướng thị trường tiền ảo giai đoạn 2014-2018:\n",
    "- Chỉ xét top 5 loại tiền đứng đầu"
   ]
  },
  {
   "cell_type": "code",
   "execution_count": 35,
   "metadata": {},
   "outputs": [],
   "source": [
    "df_temp=df\n",
    "df_temp['market_billion'] = df_temp['market'] / 1000000000\n",
    "df_temp['volume_million'] = df_temp['volume'] / 1000000000\n",
    "df_temp['volume_billion'] = df_temp['volume']"
   ]
  },
  {
   "cell_type": "code",
   "execution_count": 36,
   "metadata": {},
   "outputs": [
    {
     "data": {
      "image/png": "[encoded data removed]",
      "text/plain": [
       "<Figure size 640x480 with 1 Axes>"
      ]
     },
     "metadata": {},
     "output_type": "display_data"
    },
    {
     "data": {
      "image/png": "[encoded data removed]",
      "text/plain": [
       "<Figure size 640x480 with 1 Axes>"
      ]
     },
     "metadata": {},
     "output_type": "display_data"
    },
    {
     "data": {
      "image/png": "[encoded data removed]",
      "text/plain": [
       "<Figure size 640x480 with 1 Axes>"
      ]
     },
     "metadata": {},
     "output_type": "display_data"
    }
   ],
   "source": [
    "top_5_currency_names = df_temp.groupby(['name'])['market'].last().sort_values(ascending=False).head(5).index\n",
    "data_top_5_currencies = df_temp[df_temp['name'].isin(top_5_currency_names)]\n",
    "data_top_5_currencies.head(5)\n",
    "\n",
    "ax = data_top_5_currencies.groupby(['date', 'name'])['close'].mean().unstack().plot();\n",
    "ax.set_ylabel(\"Price per 1 unit (in USD)\");\n",
    "plt.title(\"Price per unit of currency\");\n",
    "\n",
    "ax = data_top_5_currencies.groupby(['date', 'name'])['market_billion'].mean().unstack().plot();\n",
    "ax.set_ylabel(\"Market Cap (in billion USD)\");\n",
    "plt.title(\"Market cap per Currency\");\n",
    "\n",
    "ax = data_top_5_currencies.groupby(['date', 'name'])['volume_million'].mean().unstack().plot();\n",
    "ax.set_ylabel(\"Transaction Volume (in million)\");\n",
    "plt.title(\"Transaction Volume per Currency\");"
   ]
  },
  {
   "attachments": {},
   "cell_type": "markdown",
   "metadata": {},
   "source": [
    "- Nhóm đồ thị trên đã sử dụng kĩ thuật Static layers: Superimposed Line Charts, được giới thiệu trong bài Facet: \n",
    "    - Sử dụng kĩ thuật này để hiển thị toàn bộ 5 đường tương ứng với 5 loại tiền ảo vào cùng một khung đồ thị (xét trong cùng một khung thời gian như nhau đối với từng loại tiền ảo).\n",
    "    - Khi đó, sẽ có cái nhìn trực quan hơn khi nhìn vào đồ thị, cũng có thể dễ dàng so sánh 5 loại tiền ảo với nhau, điều này sẽ khó có được hiển thị từng đường cho từng loại tiền ảo trên một khung đồ thị riêng biệt. Từ đó, dễ dàng hơn trong việc đưa ra đánh giá.\n"
   ]
  },
  {
   "attachments": {},
   "cell_type": "markdown",
   "metadata": {},
   "source": [
    "    \n",
    "- Nhận xét:\n",
    "    - Về Giá của mỗi đơn vị tiền tệ: tiền ảo Bitcoin luôn có giá trị cao nhất và trong giai đoạn nửa cuối năm 2017 - đầu năm 2018, giá của Bitcoin cao hơn hẳn các loại tiền còn lại, thậm chí có lúc cao hơn gấp gần 4 lần so với đồng tiền đứng thứ hai.\n",
    "    - Về Giới hạn thị trường: tương tự như giá, về giới hạn thị trường Bitcoin vẫn luôn dẫn đầu, trong giai đoạn nửa cuối năm 2017 - đầu năm 2018, giới hạn thị trường của Bitcoin cao hơn hẳn các loại tiền còn lại, thậm chí có lúc cao hơn gấp gần 3 lần so với đồng tiền đứng thứ hai.\n",
    "    - Về Khối lượng giao dịch: giai đoạn từ 2014 đến nửa đầu 2017, khối lượng giao dịch của tất cả các loại tiền ảo đều gần như bằng 0. Sang nửa cuối năm 2017 - đầu năm 2018 khối lượng giao dịch tăng lên rõ rệt, đứng đầu là Bitcoin với khối lượng giao dịch đứng đầu.\n",
    "\n",
    "    => Từ đó, ta thấy giai đoạn từ 2014 đến nửa đầu 2017 thị trường tiền ảo chưa phát triển, nhưng sang giai đoạn nửa cuối năm 2017 - đầu năm 2018 là giai đoạn bùng nổ của thị trường tiền ảo: tiền ảo có giá trị hơn, lượng giao dịch lớn mỗi ngày, đặc biệt là sự tăng trưởng mạnh mẽ của tiền ảo Bitcoin.\n"
   ]
  },
  {
   "attachments": {},
   "cell_type": "markdown",
   "metadata": {},
   "source": [
    "### Vấn đề thứ hai"
   ]
  },
  {
   "cell_type": "code",
   "execution_count": null,
   "metadata": {},
   "outputs": [],
   "source": []
  }
 ],
 "metadata": {
  "kernelspec": {
   "display_name": "Python 3",
   "language": "python",
   "name": "python3"
  },
  "language_info": {
   "codemirror_mode": {
    "name": "ipython",
    "version": 3
   },
   "file_extension": ".py",
   "mimetype": "text/x-python",
   "name": "python",
   "nbconvert_exporter": "python",
   "pygments_lexer": "ipython3",
   "version": "3.10.6"
  },
  "orig_nbformat": 4
 },
 "nbformat": 4,
 "nbformat_minor": 2
}
