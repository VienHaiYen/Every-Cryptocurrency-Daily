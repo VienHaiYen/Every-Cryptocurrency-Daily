{
 "cells": [
  {
   "attachments": {},
   "cell_type": "markdown",
   "metadata": {},
   "source": [
    "# LAB 02: Cryptocurrency Daily Market Price"
   ]
  },
  {
   "attachments": {},
   "cell_type": "markdown",
   "metadata": {},
   "source": [
    "## Thông tin người thực hiện\n",
    "|  MSSV |Họ và tên   |\n",
    "|---|---|\n",
    "|  20120095 |Ngô Quang Hưng   |\n",
    "|  20120519|Nguyễn Thị Thúy Liễu   |\n",
    "|  20120540|Võ Hoàng Thảo Nguyên   |\n",
    "|  20120633|Viên Hải Yến   |\n",
    "|  20120634|Lê Minh Trí   |\n"
   ]
  },
  {
   "attachments": {},
   "cell_type": "markdown",
   "metadata": {},
   "source": [
    "## Mô tả đồ án"
   ]
  },
  {
   "cell_type": "markdown",
   "metadata": {},
   "source": []
  },
  {
   "attachments": {},
   "cell_type": "markdown",
   "metadata": {},
   "source": [
    "Import các thư viện"
   ]
  },
  {
   "cell_type": "code",
   "execution_count": null,
   "metadata": {},
   "outputs": [],
   "source": [
    "import numpy as np\n",
    "import pandas as pd\n",
    "import seaborn as sns\n",
    "import matplotlib.pyplot as plt\n",
    "import plotly.express as px\n",
    "from datetime import datetime, timedelta\n",
    "import warnings"
   ]
  },
  {
   "attachments": {},
   "cell_type": "markdown",
   "metadata": {},
   "source": [
    "### <span style=\"color:yellow\"> A. Thu thập dữ liệu</span>"
   ]
  },
  {
   "attachments": {},
   "cell_type": "markdown",
   "metadata": {},
   "source": [
    "#### Ngữ cảnh thực hiện tìm kiếm dữ liệu"
   ]
  },
  {
   "attachments": {},
   "cell_type": "markdown",
   "metadata": {},
   "source": [
    "Đây là thời đại công nghê số nơi mà thị trường điện tử phát triển mạnh mẽ và được nhiều người biết đến. Dataset này cung cấp thông tin chi tiết về lịch sử giao dịch của các loại tiền điện tử, bao gồm các chỉ số quan trọng như giá mở, giá cao, giá thấp, giá đóng cửa, khối lượng giao dịch và vốn hóa thị trường, ...\\\n",
    "Bộ dữ liệu lưu trữ trong khoảng thời gian từ năm 2013-2018 về nhiều loại tiền ảo ở các thời gian gần nhau để thấy được sự chênh lệch trong các khoảng thời gian xác định."
   ]
  },
  {
   "attachments": {},
   "cell_type": "markdown",
   "metadata": {},
   "source": [
    "#### Chủ đề"
   ]
  },
  {
   "attachments": {},
   "cell_type": "markdown",
   "metadata": {},
   "source": [
    "Time-series, phân tích độ trending, rủi ro, tầm phát triển, thay đổi của thị trường Crypo từ năm 2013-2018"
   ]
  },
  {
   "attachments": {},
   "cell_type": "markdown",
   "metadata": {},
   "source": [
    "#### Nguồn"
   ]
  },
  {
   "attachments": {},
   "cell_type": "markdown",
   "metadata": {},
   "source": [
    "Dataset trên Kaggle: [Tại đây](https://www.kaggle.com/datasets/jessevent/all-crypto-currencies?fbclid=IwAR1ClYMb9dVjpBwOPuqJfWkRf5gLsukrWscsuV_okKL4X6Q9e7JkjcGtdQ8)"
   ]
  },
  {
   "attachments": {},
   "cell_type": "markdown",
   "metadata": {},
   "source": [
    "#### Người ta có cho phép sử dụng dữ liệu như thế này hay không?"
   ]
  },
  {
   "attachments": {},
   "cell_type": "markdown",
   "metadata": {},
   "source": [
    "Theo thông tin License của dữ liệu, người dùng được phép tự do chia sẻ, sửa đổi và sử dụng dữ liệu trong khi duy trì sự tự do tương tự cho người dùng khác."
   ]
  },
  {
   "attachments": {},
   "cell_type": "markdown",
   "metadata": {},
   "source": [
    "#### Người ta đã thu thập dữ liệu này như thế nào? Phương pháp thực hiện là gì?"
   ]
  },
  {
   "attachments": {},
   "cell_type": "markdown",
   "metadata": {},
   "source": [
    "Phương pháp thu thập dữ liệu:\n",
    "- Thu thập thông tin bằng code và sử dụng CRAN của R (lưu trữ trực tuyến thường được sử dụng với R packages và các tài nguyên R khác).\n",
    "- Do đó, có những cải tiến đáng kể về cách một số chuyển đổi trường đã được thực hiện và dữ liệu được làm sạch."
   ]
  },
  {
   "attachments": {},
   "cell_type": "markdown",
   "metadata": {},
   "source": [
    "#### Đọc dữ liệu"
   ]
  },
  {
   "cell_type": "code",
   "execution_count": null,
   "metadata": {},
   "outputs": [],
   "source": [
    "# dateparse = lambda dates: pd.datetime.strptime(dates, '%Y-%m-%d')\n",
    "df = pd.read_csv('./dataset/crypto-markets.csv', parse_dates=['date'], index_col='date')\n",
    "df.head()"
   ]
  },
  {
   "attachments": {},
   "cell_type": "markdown",
   "metadata": {},
   "source": [
    "----"
   ]
  },
  {
   "attachments": {},
   "cell_type": "markdown",
   "metadata": {},
   "source": [
    "### <span style=\"color:yellow\"> B. Khám phá dữ liệu</span>"
   ]
  },
  {
   "attachments": {},
   "cell_type": "markdown",
   "metadata": {},
   "source": [
    "#### Mỗi dòng có ý nghĩa gì? Có vấn đề các dòng có ý nghĩa khác nhau không?"
   ]
  },
  {
   "attachments": {},
   "cell_type": "markdown",
   "metadata": {},
   "source": [
    "- Mỗi dòng chứa dữ liệu về một loại tiền ảo và các thông tin liên quan trong một thời điểm cụ thể. Thông tin bao gồm: thời gian công bố, tên loại tiền, tên viết tắt, xếp hạng, giá mở cửa, giá đóng cửa, giá cao nhất giá thấp nhất, khối lượng giao dịch, vốn hoá thị trường, chênh lệch giữa giá mua và giá bán ,tỉ lệ đóng.\n",
    "\n",
    "- ví dụ dòng 1: tiền bitcoin có xếp hạng là 1, giá mở là 135.3, giá đóng là 134.21, giá cao nhất là 135.98, giá thấp nhất là 132.10, khối lượng giao dịch là 0, vốn hoá thị trường là 1.488567e+09, tỉ lệ đóng 0.5438, chênh lệch giá mua và giá bán là 3.88.\n",
    "\n",
    "- Không có tình trạng các dòng có ý nghĩa khác nhau.\n"
   ]
  },
  {
   "attachments": {},
   "cell_type": "markdown",
   "metadata": {},
   "source": [
    "#### Mỗi cột có ý nghĩa gì?"
   ]
  },
  {
   "cell_type": "code",
   "execution_count": null,
   "metadata": {},
   "outputs": [],
   "source": [
    "column=11\n",
    "print(\"column \", column,\": \", df.columns[column])\n",
    "print(\"size: \", len(df.loc[:, df.columns[column]]))\n",
    "print(\"number of values: \", len(df.loc[:, df.columns[column]].unique()))\n",
    "\n",
    "arr= df.loc[:, df.columns[column]].unique()\n",
    "\n",
    "nanIndex=-1\n",
    "for index in range(len(arr)):\n",
    "    if isinstance(arr[index], float) and np.isnan(arr[index]):\n",
    "        nanIndex=index\n",
    "        break\n",
    "if nanIndex != -1:\n",
    "    arr=np.delete(arr,nanIndex)\n",
    "\n",
    "print(\"number of values (without nan): \", len(arr))\n",
    "print(\"data (without nan) : \", arr[0])\n",
    "print(\"data (without nan) : \", arr[1])\n",
    "print(\"data (without nan) : \", arr[2])\n",
    "print(\"data (without nan) : \", arr[3])\n",
    "\n",
    "print(min(arr))\n",
    "print(max(arr))\n",
    "print(np.mean(arr))\n",
    "# print(\"data (without nan) : \", ', '.join(arr))"
   ]
  },
  {
   "attachments": {},
   "cell_type": "markdown",
   "metadata": {},
   "source": [
    "#### Thông tin mỗi cột"
   ]
  },
  {
   "attachments": {},
   "cell_type": "markdown",
   "metadata": {},
   "source": [
    "- Slug: Tên loại tiền\n",
    "    - Kích thước: 942297\n",
    "    - Số lượng dữ liệu không trùng lắp: 2071\n",
    "    - Một số dữ liệu: bitcoin, ripple, ethereum, stellar, bitcoin-cash,...\n",
    "- symbol: tên viết tắt của loại tiền\n",
    "    - Kích thước: 942297\n",
    "    - Số lượng dữ liệu không trùng lắp: 2005\n",
    "    - Một số dữ liệu:  BTC, XRP, ETH, XLM, BCH, EOS, LTC, USDT, BSV, ADA,...\n",
    "- name: tên loại tiền\n",
    "    - Kích thước: 942297\n",
    "    - Số lượng dữ liệu không trùng lắp: 2071\n",
    "    - Một số dữ liệu:  Bitcoin, XRP, Ethereum, Stellar, Bitcoin Cash, EOS,...\n",
    "- ranknow: xếp hạng\n",
    "    - Kích thước: 942297\n",
    "    - Số lượng dữ liệu không trùng lắp: 2068\n",
    "    - Một số dữ liệu:  1,2,3,...,2070,2071,2072.\n",
    "- open: giá mở\n",
    "    - Kích thước: 942297\n",
    "    - Số lượng dữ liệu không trùng lắp: 266140\n",
    "    - Một số dữ liệu:  135.3, 134.44, 144.,...,23320.9, 24543.53, 22872.09\n",
    "    - min: 2.5e-09\n",
    "    - max: 2298390.0\n",
    "    - Trung bình: 1222.88\n",
    "- high: gía cao nhất\n",
    "    - Kích thước: 942297\n",
    "    - Số lượng dữ liệu không trùng lắp: 269676\n",
    "    - Một số dữ liệu:  135.98, 147.49, 146.93, ... ,25235.1,  24582.47, 23086.98\n",
    "    - min: 3.2e-09\n",
    "    - max: 2926100.0\n",
    "    - Trung bình: 1417.51\n",
    "- low: gía thấp nhất\n",
    "    - Kích thước: 942297\n",
    "    - Số lượng dữ liệu không trùng lắp: 263008\n",
    "    - Một số dữ liệu:  132.1, 134., 134.05, ... ,19888.1,  21457.95, 19040.91\n",
    "    - min: 2.5e-10\n",
    "    - max: 2030590.0\n",
    "    - Trung bình: 1052.11\n",
    "- close: gía đóng\n",
    "    - Kích thước: 942297\n",
    "    - Số lượng dữ liệu không trùng lắp: 265887\n",
    "    - Một số dữ liệu:  134.21, 144.54, 139., ... ,24442.7,  22839.44, 21136.72\n",
    "    - min: 2e-10\n",
    "    - max: 2300740.0\n",
    "    - Trung bình: 1215.35\n",
    "- volume: khối lượng giao dịch\n",
    "    - Kích thước: 942297\n",
    "    - Số lượng dữ liệu không trùng lắp: 300528\n",
    "    - Một số dữ liệu:  0, 46862700.0, 32505800.0, 19011300.0,...\n",
    "    - min: 0.0\n",
    "    - max: 23840899072.0\n",
    "    - Trung bình: 27175312.58\n",
    "- market: vốn hoá thị trường\n",
    "    - Kích thước: 942297\n",
    "    - Số lượng dữ liệu không trùng lắp: 660996\n",
    "    - Một số dữ liệu:  1488566728.0, 1603768865.0, 1542813125.0, 1298954594.0,...\n",
    "    - min: 0.0\n",
    "    - max: 326502485530.0\n",
    "    - Trung bình: 245833831.28\n",
    "- spread: chênh lệch giá mua và giá bán\n",
    "    - Kích thước: 942297\n",
    "    - Số lượng dữ liệu không trùng lắp: 12454\n",
    "    - Một số dữ liệu:  3.88, 13.49, 12.88, 32.17,...\n",
    "    - min: 0\n",
    "    - max: 1770563.0\n",
    "    - Trung bình: 8472.75\n",
    "- close_ratio: tỉ lệ đóng\n",
    "    - Kích thước: 942297\n",
    "    - Số lượng dữ liệu không trùng lắp: 10022\n",
    "    - Một số dữ liệu:  0.5438, 0.7813, 0.3843, 0.2882,...\n",
    "    - min: -1.0\n",
    "    - max: 1\n",
    "    - Trung bình: 0.49"
   ]
  },
  {
   "attachments": {},
   "cell_type": "markdown",
   "metadata": {},
   "source": [
    "#### Mỗi cột hiện đang có kiểu dữ liệu gì?"
   ]
  },
  {
   "cell_type": "code",
   "execution_count": null,
   "metadata": {},
   "outputs": [],
   "source": [
    "df.dtypes"
   ]
  },
  {
   "cell_type": "code",
   "execution_count": null,
   "metadata": {},
   "outputs": [],
   "source": [
    "object_columns = df.select_dtypes(include=['object']).columns\n",
    "for col in object_columns:\n",
    "    print(col,\":\",set(df[col].apply(type)))"
   ]
  },
  {
   "attachments": {},
   "cell_type": "markdown",
   "metadata": {},
   "source": [
    "#### Có cột nào có kiểu dữ liệu chưa phù hợp để có thể xử lý tiếp hay không?"
   ]
  },
  {
   "attachments": {},
   "cell_type": "markdown",
   "metadata": {},
   "source": [
    "Các cột đã ở kiểu dữ liệu phù hợp để phân tích"
   ]
  },
  {
   "attachments": {},
   "cell_type": "markdown",
   "metadata": {},
   "source": [
    "#### Phân bố dữ liệu ở các cột"
   ]
  },
  {
   "attachments": {},
   "cell_type": "markdown",
   "metadata": {},
   "source": [
    "##### Với mỗi cột có kiểu dữ liệu dạng numeric, các giá trị được phân bố như thế nào?"
   ]
  },
  {
   "cell_type": "code",
   "execution_count": null,
   "metadata": {},
   "outputs": [],
   "source": [
    "numerical_des = df.describe()\n",
    "missing_ratio = pd.DataFrame({col : df[col].isnull().sum() / len(df) for col in numerical_des.columns}, index=[\"missing_ratio\"])\n",
    "pd.concat([numerical_des,missing_ratio])"
   ]
  },
  {
   "attachments": {},
   "cell_type": "markdown",
   "metadata": {},
   "source": [
    "##### Với mỗi cột không có kiểu dữ liệu dạng categorical, các giá trị được phân bố như thế nào?"
   ]
  },
  {
   "cell_type": "code",
   "execution_count": null,
   "metadata": {},
   "outputs": [],
   "source": [
    "cate_rows=[\"missing_ratio\",\"nums_of_vals\", \"num_diff_vals\",\"diff_vals\"]\n",
    "data_cate={}\n",
    "\n",
    "for col in df.columns:\n",
    "    if df[col].dtype == 'object':\n",
    "        row=[]\n",
    "        row.append(round(df[col].isnull().sum()/len(df[col])*100,3))\n",
    "        data_cate.update({f'{col}':row})\n",
    "\n",
    "        row.append(len(df[col].notna()))\n",
    "        row.append(len(df[col][df[col].notna()].unique()))\n",
    "        row.append(np.array(df[col][df[col].notna()].unique()))\n",
    "        data_cate.update({f'{col}':row})\n",
    "\n",
    "cate_col_df=pd.DataFrame(data_cate,index=cate_rows)\n",
    "display(cate_col_df)"
   ]
  },
  {
   "attachments": {},
   "cell_type": "markdown",
   "metadata": {},
   "source": [
    "#### Tiền xử lí dữ liệu"
   ]
  },
  {
   "cell_type": "code",
   "execution_count": null,
   "metadata": {},
   "outputs": [],
   "source": [
    "\n",
    "print(df.info())\n",
    "print(df.describe())\n",
    "# kiểm tra missing data\n",
    "print(df.isna().sum())\n",
    "\n",
    "# Kiểm tra có dữ liệu bị duplicate không\n",
    "print(str(df.duplicated().sum()))\n",
    "\n",
    "# Kiểm ra khoản thời gian của dữ liệu\n",
    "print(df.index.min())\n",
    "print(df.index.max())"
   ]
  },
  {
   "attachments": {},
   "cell_type": "markdown",
   "metadata": {},
   "source": [
    "- 0 Nan\n",
    "- 1380 duplicated\n",
    "- Dữ liệu thu thập được từ 2013-04-28 đến 2018-11-30\n",
    "\n",
    "Dữ liệu tương đối sạch ta chỉ cần phải tiền xử lý dữ liệu thêm 1 chút."
   ]
  },
  {
   "cell_type": "code",
   "execution_count": null,
   "metadata": {},
   "outputs": [],
   "source": [
    "# xữ lý dữ liệu duplicate và missing\n",
    "df.drop_duplicates(inplace=True)\n",
    "df.fillna(method='ffill', inplace=True)\n",
    "\n",
    "# chọn lấy dữ liệu từ 2014-01-01 đến 2018-01-01\n",
    "df=df.loc['2014-01-01':'2018-01-01']\n",
    "print(df.head(),df.tail())"
   ]
  },
  {
   "attachments": {},
   "cell_type": "markdown",
   "metadata": {},
   "source": [
    "### <span style=\"color:yellow\"> C. Khám phá mối quan hệ trong dữ liệu</span>"
   ]
  },
  {
   "attachments": {},
   "cell_type": "markdown",
   "metadata": {},
   "source": [
    "### Xu hướng thị trường tiền ảo giai đoạn 2014-2018:\n",
    "- Chỉ xét top 5 loại tiền đứng đầu"
   ]
  },
  {
   "cell_type": "code",
   "execution_count": null,
   "metadata": {},
   "outputs": [],
   "source": [
    "df_temp=df\n",
    "df_temp['market_billion'] = df_temp['market'] / 1000000000\n",
    "df_temp['volume_million'] = df_temp['volume'] / 1000000000\n",
    "df_temp['volume_billion'] = df_temp['volume']"
   ]
  },
  {
   "cell_type": "code",
   "execution_count": null,
   "metadata": {},
   "outputs": [],
   "source": [
    "top_5_currency_names = df_temp.groupby(['name'])['market'].last().sort_values(ascending=False).head(5).index\n",
    "data_top_5_currencies = df_temp[df_temp['name'].isin(top_5_currency_names)]\n",
    "data_top_5_currencies.head(5)\n",
    "\n",
    "ax = data_top_5_currencies.groupby(['date', 'name'])['close'].mean().unstack().plot();\n",
    "ax.set_ylabel(\"Giá một đơn vị(USD)\");\n",
    "plt.title(\"Giá một đơn vị trên mỗi loại tiền\");\n",
    "\n",
    "ax = data_top_5_currencies.groupby(['date', 'name'])['market_billion'].mean().unstack().plot();\n",
    "ax.set_ylabel(\"Vốn hoá thị trường (billion USD)\");\n",
    "plt.title(\"Vốn hoá thị trường trên mỗi loại tiền\");\n",
    "\n",
    "ax = data_top_5_currencies.groupby(['date', 'name'])['volume_million'].mean().unstack().plot();\n",
    "ax.set_ylabel(\"Khối lượng giao dịch (million)\");\n",
    "plt.title(\"Khối lượng giao dịch trên mỗi loại tiền\");"
   ]
  },
  {
   "attachments": {},
   "cell_type": "markdown",
   "metadata": {},
   "source": [
    "- Nhóm đồ thị trên đã sử dụng kĩ thuật Static layers: Superimposed Line Charts, được giới thiệu trong bài Facet: \n",
    "    - Sử dụng kĩ thuật này để hiển thị toàn bộ 5 đường tương ứng với 5 loại tiền ảo vào cùng một khung đồ thị (xét trong cùng một khung thời gian như nhau đối với từng loại tiền ảo).\n",
    "    - Khi đó, sẽ có cái nhìn trực quan hơn khi nhìn vào đồ thị, cũng có thể dễ dàng so sánh 5 loại tiền ảo với nhau, điều này sẽ khó có được hiển thị từng đường cho từng loại tiền ảo trên một khung đồ thị riêng biệt. Từ đó, dễ dàng hơn trong việc đưa ra đánh giá.\n"
   ]
  },
  {
   "attachments": {},
   "cell_type": "markdown",
   "metadata": {},
   "source": [
    "    \n",
    "- Nhận xét:\n",
    "    - Về Giá của mỗi đơn vị tiền tệ: tiền ảo Bitcoin luôn có giá trị cao nhất và trong giai đoạn nửa cuối năm 2017 - đầu năm 2018, giá của Bitcoin cao hơn hẳn các loại tiền còn lại, thậm chí có lúc cao hơn gấp gần 4 lần so với đồng tiền đứng thứ hai.\n",
    "    - Về Vốn hoá thị trường: tương tự như giá, về vốn hoá thị trường Bitcoin vẫn luôn dẫn đầu, trong giai đoạn nửa cuối năm 2017 - đầu năm 2018, giới hạn thị trường của Bitcoin cao hơn hẳn các loại tiền còn lại, thậm chí có lúc cao hơn gấp gần 3 lần so với đồng tiền đứng thứ hai.\n",
    "    - Về Khối lượng giao dịch: giai đoạn từ 2014 đến nửa đầu 2017, khối lượng giao dịch của tất cả các loại tiền ảo đều gần như bằng 0. Sang nửa cuối năm 2017 - đầu năm 2018 khối lượng giao dịch tăng lên rõ rệt, đứng đầu là Bitcoin với khối lượng giao dịch đứng đầu.\n",
    "\n",
    "    => Từ đó, ta thấy giai đoạn từ 2014 đến nửa đầu 2017 thị trường tiền ảo chưa phát triển, nhưng sang giai đoạn nửa cuối năm 2017 - đầu năm 2018 là giai đoạn bùng nổ của thị trường tiền ảo: tiền ảo có giá trị hơn, lượng giao dịch lớn mỗi ngày, đặc biệt là sự tăng trưởng mạnh mẽ của tiền ảo Bitcoin.\n"
   ]
  },
  {
   "attachments": {},
   "cell_type": "markdown",
   "metadata": {},
   "source": [
    "#### Giả sử đầu tư 1000 USD tại một số thời điểm thì ROI thu được như thế nào?"
   ]
  },
  {
   "cell_type": "code",
   "execution_count": null,
   "metadata": {},
   "outputs": [],
   "source": [
    "df_temp=df\n",
    "wide_format = df_temp.groupby(['date', 'name'])['close'].last().unstack()"
   ]
  },
  {
   "cell_type": "code",
   "execution_count": null,
   "metadata": {},
   "outputs": [],
   "source": [
    "def plot_roi(amount, df):\n",
    "    ((amount / df.iloc[0]) * df).plot(figsize=(12,8))\n",
    "\n",
    "wide_format_2017th = wide_format[(wide_format.index.year >= 2017)]\n",
    "plot_roi(1000, wide_format_2017th[top_5_currency_names])"
   ]
  },
  {
   "attachments": {},
   "cell_type": "markdown",
   "metadata": {},
   "source": [
    "- Đồ thị trên đã sử dụng kĩ thuật Static layers: Superimposed Line Charts, được giới thiệu trong bài Facet: \n",
    "    - Sử dụng kĩ thuật này để hiển thị các đường tương ứng với các loại tiền ảo vào cùng một khung đồ thị (xét trong cùng một khung thời gian như nhau đối với từng loại tiền ảo).\n",
    "    - Khi đó, sẽ có cái nhìn trực quan hơn khi nhìn vào đồ thị, cũng có thể dễ dàng so sánh các loại tiền ảo với nhau, điều này sẽ khó có được hiển thị từng đường cho từng loại tiền ảo trên một khung đồ thị riêng biệt. Từ đó, dễ dàng hơn trong việc đưa ra đánh giá."
   ]
  },
  {
   "attachments": {},
   "cell_type": "markdown",
   "metadata": {},
   "source": [
    "- Nhận xét:\n",
    "    - Cùng đầu tư một số tiền là 1000 USD cho các loại tiền, nhìn vào đồ thị ta thấy ROI (Hệ số thu nhập trên đầu tư) của tiền ảo XRP có nhiều biến động và cao nhất, hơn hẳn các loại tiền kháng vào giai đoạn tháng 12/2017.\n",
    "    - Còn với tiền ảo Ethereum thì ROI phát triển khá ổn định, có xu hướng tăng dần.\n",
    "    - Trong khi đó, tiền ảo Bitcoin lại gây thấy vọng khi lượng ROI thấp hơn hẳn 2 loại tiền còn lại và phát triển khá chậm."
   ]
  },
  {
   "attachments": {},
   "cell_type": "markdown",
   "metadata": {},
   "source": [
    "### Tổng khối lượng giao dịch theo từng loại tiền ảo:"
   ]
  },
  {
   "cell_type": "code",
   "execution_count": null,
   "metadata": {},
   "outputs": [],
   "source": [
    "df_temp=df\n",
    "currency  = []\n",
    "volume = []\n",
    "name = df_temp['name'].unique()\n",
    "x_currencies = name[:10]\n",
    "for i, cn in enumerate(x_currencies):\n",
    "     filtered = df_temp[(df_temp['name']==str(cn))]\n",
    "     currency.append(str(cn))\n",
    "     volume.append(filtered['volume'].values[0])\n",
    "        \n",
    "f, ax = plt.subplots(figsize=(20, 8)) \n",
    "g = sns.barplot( y = currency, x = volume, palette=sns.cubehelix_palette(10, reverse=True))\n",
    "plt.title(\"Tổng khối lượng giao dịch theo từng loại tiền\")\n",
    "ax.set_xticklabels(ax.get_xticks())\n",
    "fig=plt.gcf()\n",
    "plt.show()"
   ]
  },
  {
   "attachments": {},
   "cell_type": "markdown",
   "metadata": {},
   "source": [
    "- Đồ thị trên đã sử dụng kĩ thuật Item Aggregation, cụ thể là đồ thị histogram, được giới thiệu trong bài Reduce: \n",
    "    - Sử dụng kĩ thuật này để hiển thị các cột tương ứng với các loại tiền ảo. Với các loại tiền ảo là các thùng chứa, còn số lượng chứa trong thùng là tổng khối lượng giao dịch của từng loại tiền ảo.\n",
    "    - Khi đó, sẽ có cái nhìn trực quan hơn khi nhìn vào đồ thị, cũng có thể dễ dàng so sánh các loại tiền ảo với nhau. Cách trực quan này giúp dễ so sánh về tổng số lượng giao dịch hơn so với việc không gom nhóm các loại tiền.\n",
    "    - Từ đó, dễ dàng hơn trong việc đưa ra đánh giá."
   ]
  },
  {
   "attachments": {},
   "cell_type": "markdown",
   "metadata": {},
   "source": [
    "- Nhận xét:\n",
    "    - Trong giai đoạn đang xét, ta thấy tổng số lượng giao dịch của tiền ảo Cardano cao nhất, cao gấp 2 lần so với loại tiền thứ hai là Bitcoin. Trong khi đó, khoảng cách giữa các loại tiền thứ 2, 3, 4 không rõ ràng như khoảng cách của tiền ảo Cardano và Bitcoin.\n",
    "    - Các loại tiền ảo còn lại gần như tổng khối lượng giao dịch gần như bằng không.\n",
    "    - Từ đó, ta thấy xu hướng giao dịch trong giai đoạn này là tiền Cardano."
   ]
  },
  {
   "attachments": {},
   "cell_type": "markdown",
   "metadata": {},
   "source": [
    "### Diễn biến giá mở của các loại tiền ảo trong từng giai đoạn"
   ]
  },
  {
   "cell_type": "code",
   "execution_count": null,
   "metadata": {},
   "outputs": [],
   "source": [
    "\n",
    "\n",
    "name = df_temp['name'].unique()\n",
    "currency  = name[:10]\n",
    "df_openPrice=df[(df_temp['name'].isin(currency))]\n",
    "# print(df_openPrice['date'])\n",
    "\n",
    "\n",
    "\n",
    "df_openPrice = df_openPrice[[\"name\", \"open\"]]\n",
    "df_openPrice = df_openPrice.sort_index()\n",
    "\n",
    "plt.figure(figsize=(15, 10))\n",
    "\n",
    "for name in currency:\n",
    "    data = df_openPrice[df_openPrice[\"name\"] == name]\n",
    "    plt.plot(data.index, data[\"open\"], label=name)\n",
    "plt.ylabel(\"Open price\")\n",
    "plt.title(\"Open price of cryptocurrencies over time\")\n",
    "plt.legend()\n",
    "plt.show()\n"
   ]
  },
  {
   "attachments": {},
   "cell_type": "markdown",
   "metadata": {},
   "source": [
    "- Đồ thị trên đã sử dụng kĩ thuật Static layers: Superimposed Line Charts, được giới thiệu trong bài Facet: \n",
    "    - Sử dụng kĩ thuật này để hiển thị các đường tương ứng với các loại tiền ảo vào cùng một khung đồ thị (xét trong cùng một khung thời gian như nhau đối với từng loại tiền ảo).\n",
    "    - Khi đó, sẽ có cái nhìn trực quan hơn khi nhìn vào đồ thị, cũng có thể dễ dàng so sánh các loại tiền ảo với nhau, điều này sẽ khó có được hiển thị từng đường cho từng loại tiền ảo trên một khung đồ thị riêng biệt. Từ đó, dễ dàng hơn trong việc đưa ra đánh giá.\n",
    "\n",
    "- Nhận xét:\n",
    "    - Ta có thể dễ dàng thấy được, giá mở không biến động nhiều trong giai đoạn từ 2014-01 đến 2017-01. Tuy nhiên, sau khoảng thời gian trên, giá mở các loại tiền ảo tăng chóng mặt, đặt biệt là Bitcoin với chiều tăng gần như dựng đứng. Điều đó cho thấy có một sự biến động vào năm 2017."
   ]
  },
  {
   "attachments": {},
   "cell_type": "markdown",
   "metadata": {},
   "source": [
    "### Tần suất giá đóng nhỏ hơn giá mở của 10 loại tiền ảo đầu tiên"
   ]
  },
  {
   "cell_type": "code",
   "execution_count": null,
   "metadata": {},
   "outputs": [],
   "source": [
    "df_tmp= df\n",
    "name = df_tmp['name'].unique()\n",
    "currency  = name[:10]\n",
    "df_tmp=df_tmp[(df_tmp['name'].isin(currency))]\n",
    "\n",
    "freq = (df_tmp['close'] < df_tmp['open']).groupby(df_tmp['name']).sum()\n",
    "freq = freq.sort_values(ascending=True)\n",
    "\n",
    "plt.figure(figsize=(15, 10))\n",
    "\n",
    "# freq.sort_values(freq.values)\n",
    "# vẽ đồ thị cột\n",
    "plt.bar(freq.index, freq.values)\n",
    "\n",
    "# đặt tên cho các trục và tiêu đề\n",
    "plt.xlabel('Tên tiền ảo')\n",
    "plt.ylabel('Số lần giá đóng thấp hơn giá mở')\n",
    "plt.title('Tần suất giá đóng nhỏ hơn giá mở của 10 loại tiền ảo đầu tiên')\n",
    "\n",
    "# hiển thị đồ thị\n",
    "plt.show()\n"
   ]
  },
  {
   "attachments": {},
   "cell_type": "markdown",
   "metadata": {},
   "source": [
    "- Đồ thị trên đã sử dụng kĩ thuật Item Aggregation, cụ thể là đồ thị histogram, được giới thiệu trong bài Reduce: \n",
    "    - Sử dụng kĩ thuật này để hiển thị các cột tương ứng với các loại tiền ảo. Với các loại tiền ảo là các thùng chứa, còn số lượng chứa trong thùng là số lần giá đóng thấp hơn giá mở của từng loại tiền ảo.\n",
    "    - Khi đó, sẽ có cái nhìn trực quan hơn khi nhìn vào đồ thị, cũng có thể dễ dàng so sánh các loại tiền ảo với nhau. Cách trực quan này giúp dễ so sánh về tổng số lượng giao dịch hơn so với việc không gom nhóm các loại tiền. Từ đó, dễ dàng hơn trong việc đưa ra đánh giá."
   ]
  },
  {
   "attachments": {},
   "cell_type": "markdown",
   "metadata": {},
   "source": [
    "- Nhận xét:\n",
    "    - Trong 10 loại tiền ảo đầu tiên, loại tiền ảo có số lần chênh lệch giá đóng với giá mở lớn nhất là XRP với khoảng 800 lần chênh lệch. Trong khi đó, Cardano thì có số lần chênh lệch cự kì ít, chỉ khoảng 50 lần chênh lệch.\n",
    "    - Từ đó ta cũng có thể dễ dàng nhận thấy, nếu thực hiện giao dịch mua bán trên ngày, trong 10 loại tiền ảo đầu tiên thì chọn XRP sẽ có khả năng thu lợi được nhiều nhất, bởi vì số lần tăng giá là khá cao."
   ]
  }
 ],
 "metadata": {
  "kernelspec": {
   "display_name": "Python 3",
   "language": "python",
   "name": "python3"
  },
  "language_info": {
   "codemirror_mode": {
    "name": "ipython",
    "version": 3
   },
   "file_extension": ".py",
   "mimetype": "text/x-python",
   "name": "python",
   "nbconvert_exporter": "python",
   "pygments_lexer": "ipython3",
   "version": "3.10.10"
  },
  "orig_nbformat": 4
 },
 "nbformat": 4,
 "nbformat_minor": 2
}
