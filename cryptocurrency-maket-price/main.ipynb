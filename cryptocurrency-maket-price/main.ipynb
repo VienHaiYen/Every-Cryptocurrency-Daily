{
 "cells": [
  {
   "attachments": {},
   "cell_type": "markdown",
   "metadata": {},
   "source": [
    "# LAB 02: Cryptocurrency Daily Market Price"
   ]
  },
  {
   "attachments": {},
   "cell_type": "markdown",
   "metadata": {},
   "source": [
    "## Thông tin người thực hiện\n",
    "|  MSSV |Họ và tên   |\n",
    "|---|---|\n",
    "|  20120095 |Ngô Quang Hưng   |\n",
    "|  20120519|Nguyễn Thị Thúy Liễu   |\n",
    "|  20120540|Võ Hoàng Thảo Nguyên   |\n",
    "|  20120633|Viên Hải Yến   |\n",
    "|  20120634|Lê Minh Trí   |\n"
   ]
  },
  {
   "attachments": {},
   "cell_type": "markdown",
   "metadata": {},
   "source": [
    "## Mô tả đồ án"
   ]
  },
  {
   "cell_type": "markdown",
   "metadata": {},
   "source": []
  },
  {
   "attachments": {},
   "cell_type": "markdown",
   "metadata": {},
   "source": [
    "Import các thư viện"
   ]
  },
  {
   "cell_type": "code",
   "execution_count": 1,
   "metadata": {},
   "outputs": [],
   "source": [
    "import numpy as np\n",
    "import pandas as pd\n",
    "import seaborn as sns\n",
    "import matplotlib.pyplot as plt\n",
    "import plotly.express as px\n",
    "from datetime import datetime, timedelta\n",
    "import warnings"
   ]
  },
  {
   "attachments": {},
   "cell_type": "markdown",
   "metadata": {},
   "source": [
    "### <span style=\"color:yellow\"> A. Thu thập dữ liệu</span>"
   ]
  },
  {
   "attachments": {},
   "cell_type": "markdown",
   "metadata": {},
   "source": [
    "#### Ngữ cảnh thực hiện tìm kiếm dữ liệu"
   ]
  },
  {
   "attachments": {},
   "cell_type": "markdown",
   "metadata": {},
   "source": [
    "Đây là thời đại công nghê số nơi mà thị trường điện tử phát triển mạnh mẽ và được nhiều người biết đến. Dataset này cung cấp thông tin chi tiết về lịch sử giao dịch của các loại tiền điện tử, bao gồm các chỉ số quan trọng như giá mở, giá cao, giá thấp, giá đóng cửa, khối lượng giao dịch và vốn hóa thị trường, ...\\\n",
    "Bộ dữ liệu lưu trữ trong khoảng thời gian từ năm 2013-2018 về nhiều loại tiền ảo ở các thời gian gần nhau để thấy được sự chênh lệch trong các khoảng thời gian xác định."
   ]
  },
  {
   "attachments": {},
   "cell_type": "markdown",
   "metadata": {},
   "source": [
    "#### Chủ đề"
   ]
  },
  {
   "attachments": {},
   "cell_type": "markdown",
   "metadata": {},
   "source": [
    "Time-series, phân tích độ trending, rủi ro, tầm phát triển, thay đổi của thị trường Crypo từ năm 2013-2018"
   ]
  },
  {
   "attachments": {},
   "cell_type": "markdown",
   "metadata": {},
   "source": [
    "#### Nguồn"
   ]
  },
  {
   "attachments": {},
   "cell_type": "markdown",
   "metadata": {},
   "source": [
    "Dataset trên Kaggle: [Tại đây](https://www.kaggle.com/datasets/jessevent/all-crypto-currencies?fbclid=IwAR1ClYMb9dVjpBwOPuqJfWkRf5gLsukrWscsuV_okKL4X6Q9e7JkjcGtdQ8)"
   ]
  },
  {
   "attachments": {},
   "cell_type": "markdown",
   "metadata": {},
   "source": [
    "#### Người ta có cho phép sử dụng dữ liệu như thế này hay không?"
   ]
  },
  {
   "attachments": {},
   "cell_type": "markdown",
   "metadata": {},
   "source": [
    "Theo thông tin License của dữ liệu, người dùng được phép tự do chia sẻ, sửa đổi và sử dụng dữ liệu trong khi duy trì sự tự do tương tự cho người dùng khác."
   ]
  },
  {
   "attachments": {},
   "cell_type": "markdown",
   "metadata": {},
   "source": [
    "#### Người ta đã thu thập dữ liệu này như thế nào? Phương pháp thực hiện là gì?"
   ]
  },
  {
   "attachments": {},
   "cell_type": "markdown",
   "metadata": {},
   "source": [
    "Phương pháp thu thập dữ liệu:\n",
    "- Thu thập thông tin bằng code và sử dụng CRAN của R (lưu trữ trực tuyến thường được sử dụng với R packages và các tài nguyên R khác).\n",
    "- Do đó, có những cải tiến đáng kể về cách một số chuyển đổi trường đã được thực hiện và dữ liệu được làm sạch."
   ]
  },
  {
   "attachments": {},
   "cell_type": "markdown",
   "metadata": {},
   "source": [
    "#### Đọc dữ liệu"
   ]
  },
  {
   "cell_type": "code",
   "execution_count": 2,
   "metadata": {},
   "outputs": [
    {
     "data": {
      "text/html": [
       "<div>\n",
       "<style scoped>\n",
       "    .dataframe tbody tr th:only-of-type {\n",
       "        vertical-align: middle;\n",
       "    }\n",
       "\n",
       "    .dataframe tbody tr th {\n",
       "        vertical-align: top;\n",
       "    }\n",
       "\n",
       "    .dataframe thead th {\n",
       "        text-align: right;\n",
       "    }\n",
       "</style>\n",
       "<table border=\"1\" class=\"dataframe\">\n",
       "  <thead>\n",
       "    <tr style=\"text-align: right;\">\n",
       "      <th></th>\n",
       "      <th>slug</th>\n",
       "      <th>symbol</th>\n",
       "      <th>name</th>\n",
       "      <th>ranknow</th>\n",
       "      <th>open</th>\n",
       "      <th>high</th>\n",
       "      <th>low</th>\n",
       "      <th>close</th>\n",
       "      <th>volume</th>\n",
       "      <th>market</th>\n",
       "      <th>close_ratio</th>\n",
       "      <th>spread</th>\n",
       "    </tr>\n",
       "    <tr>\n",
       "      <th>date</th>\n",
       "      <th></th>\n",
       "      <th></th>\n",
       "      <th></th>\n",
       "      <th></th>\n",
       "      <th></th>\n",
       "      <th></th>\n",
       "      <th></th>\n",
       "      <th></th>\n",
       "      <th></th>\n",
       "      <th></th>\n",
       "      <th></th>\n",
       "      <th></th>\n",
       "    </tr>\n",
       "  </thead>\n",
       "  <tbody>\n",
       "    <tr>\n",
       "      <th>2013-04-28</th>\n",
       "      <td>bitcoin</td>\n",
       "      <td>BTC</td>\n",
       "      <td>Bitcoin</td>\n",
       "      <td>1</td>\n",
       "      <td>135.30</td>\n",
       "      <td>135.98</td>\n",
       "      <td>132.10</td>\n",
       "      <td>134.21</td>\n",
       "      <td>0.0</td>\n",
       "      <td>1.488567e+09</td>\n",
       "      <td>0.5438</td>\n",
       "      <td>3.88</td>\n",
       "    </tr>\n",
       "    <tr>\n",
       "      <th>2013-04-29</th>\n",
       "      <td>bitcoin</td>\n",
       "      <td>BTC</td>\n",
       "      <td>Bitcoin</td>\n",
       "      <td>1</td>\n",
       "      <td>134.44</td>\n",
       "      <td>147.49</td>\n",
       "      <td>134.00</td>\n",
       "      <td>144.54</td>\n",
       "      <td>0.0</td>\n",
       "      <td>1.603769e+09</td>\n",
       "      <td>0.7813</td>\n",
       "      <td>13.49</td>\n",
       "    </tr>\n",
       "    <tr>\n",
       "      <th>2013-04-30</th>\n",
       "      <td>bitcoin</td>\n",
       "      <td>BTC</td>\n",
       "      <td>Bitcoin</td>\n",
       "      <td>1</td>\n",
       "      <td>144.00</td>\n",
       "      <td>146.93</td>\n",
       "      <td>134.05</td>\n",
       "      <td>139.00</td>\n",
       "      <td>0.0</td>\n",
       "      <td>1.542813e+09</td>\n",
       "      <td>0.3843</td>\n",
       "      <td>12.88</td>\n",
       "    </tr>\n",
       "    <tr>\n",
       "      <th>2013-05-01</th>\n",
       "      <td>bitcoin</td>\n",
       "      <td>BTC</td>\n",
       "      <td>Bitcoin</td>\n",
       "      <td>1</td>\n",
       "      <td>139.00</td>\n",
       "      <td>139.89</td>\n",
       "      <td>107.72</td>\n",
       "      <td>116.99</td>\n",
       "      <td>0.0</td>\n",
       "      <td>1.298955e+09</td>\n",
       "      <td>0.2882</td>\n",
       "      <td>32.17</td>\n",
       "    </tr>\n",
       "    <tr>\n",
       "      <th>2013-05-02</th>\n",
       "      <td>bitcoin</td>\n",
       "      <td>BTC</td>\n",
       "      <td>Bitcoin</td>\n",
       "      <td>1</td>\n",
       "      <td>116.38</td>\n",
       "      <td>125.60</td>\n",
       "      <td>92.28</td>\n",
       "      <td>105.21</td>\n",
       "      <td>0.0</td>\n",
       "      <td>1.168517e+09</td>\n",
       "      <td>0.3881</td>\n",
       "      <td>33.32</td>\n",
       "    </tr>\n",
       "  </tbody>\n",
       "</table>\n",
       "</div>"
      ],
      "text/plain": [
       "               slug symbol     name  ranknow    open    high     low   close  \\\n",
       "date                                                                           \n",
       "2013-04-28  bitcoin    BTC  Bitcoin        1  135.30  135.98  132.10  134.21   \n",
       "2013-04-29  bitcoin    BTC  Bitcoin        1  134.44  147.49  134.00  144.54   \n",
       "2013-04-30  bitcoin    BTC  Bitcoin        1  144.00  146.93  134.05  139.00   \n",
       "2013-05-01  bitcoin    BTC  Bitcoin        1  139.00  139.89  107.72  116.99   \n",
       "2013-05-02  bitcoin    BTC  Bitcoin        1  116.38  125.60   92.28  105.21   \n",
       "\n",
       "            volume        market  close_ratio  spread  \n",
       "date                                                   \n",
       "2013-04-28     0.0  1.488567e+09       0.5438    3.88  \n",
       "2013-04-29     0.0  1.603769e+09       0.7813   13.49  \n",
       "2013-04-30     0.0  1.542813e+09       0.3843   12.88  \n",
       "2013-05-01     0.0  1.298955e+09       0.2882   32.17  \n",
       "2013-05-02     0.0  1.168517e+09       0.3881   33.32  "
      ]
     },
     "execution_count": 2,
     "metadata": {},
     "output_type": "execute_result"
    }
   ],
   "source": [
    "# dateparse = lambda dates: pd.datetime.strptime(dates, '%Y-%m-%d')\n",
    "df = pd.read_csv('./dataset/crypto-markets.csv', parse_dates=['date'], index_col='date')\n",
    "df.head()"
   ]
  },
  {
   "attachments": {},
   "cell_type": "markdown",
   "metadata": {},
   "source": [
    "----"
   ]
  },
  {
   "attachments": {},
   "cell_type": "markdown",
   "metadata": {},
   "source": [
    "### <span style=\"color:yellow\"> B. Khám phá dữ liệu</span>"
   ]
  },
  {
   "attachments": {},
   "cell_type": "markdown",
   "metadata": {},
   "source": [
    "#### Mỗi dòng có ý nghĩa gì? Có vấn đề các dòng có ý nghĩa khác nhau không?"
   ]
  },
  {
   "cell_type": "markdown",
   "metadata": {},
   "source": []
  },
  {
   "attachments": {},
   "cell_type": "markdown",
   "metadata": {},
   "source": [
    "#### Mỗi cột có ý nghĩa gì?"
   ]
  },
  {
   "cell_type": "code",
   "execution_count": null,
   "metadata": {},
   "outputs": [],
   "source": []
  },
  {
   "attachments": {},
   "cell_type": "markdown",
   "metadata": {},
   "source": [
    "#### Thông tin mỗi cột"
   ]
  },
  {
   "cell_type": "markdown",
   "metadata": {},
   "source": []
  },
  {
   "attachments": {},
   "cell_type": "markdown",
   "metadata": {},
   "source": [
    "#### Mỗi cột hiện đang có kiểu dữ liệu gì?"
   ]
  },
  {
   "cell_type": "code",
   "execution_count": null,
   "metadata": {},
   "outputs": [],
   "source": []
  },
  {
   "attachments": {},
   "cell_type": "markdown",
   "metadata": {},
   "source": [
    "#### Có cột nào có kiểu dữ liệu chưa phù hợp để có thể xử lý tiếp hay không?"
   ]
  },
  {
   "cell_type": "markdown",
   "metadata": {},
   "source": []
  },
  {
   "attachments": {},
   "cell_type": "markdown",
   "metadata": {},
   "source": [
    "#### Phân bố dữ liệu ở các cột"
   ]
  },
  {
   "attachments": {},
   "cell_type": "markdown",
   "metadata": {},
   "source": [
    "##### Với mỗi cột có kiểu dữ liệu dạng numeric, các giá trị được phân bố như thế nào?"
   ]
  },
  {
   "cell_type": "code",
   "execution_count": null,
   "metadata": {},
   "outputs": [],
   "source": []
  },
  {
   "attachments": {},
   "cell_type": "markdown",
   "metadata": {},
   "source": [
    "##### Với mỗi cột không có kiểu dữ liệu dạng categorical, các giá trị được phân bố như thế nào?"
   ]
  },
  {
   "cell_type": "code",
   "execution_count": null,
   "metadata": {},
   "outputs": [],
   "source": []
  },
  {
   "attachments": {},
   "cell_type": "markdown",
   "metadata": {},
   "source": [
    "#### Tiền xử lí dữ liệu"
   ]
  },
  {
   "cell_type": "code",
   "execution_count": 6,
   "metadata": {},
   "outputs": [
    {
     "name": "stdout",
     "output_type": "stream",
     "text": [
      "<class 'pandas.core.frame.DataFrame'>\n",
      "DatetimeIndex: 448694 entries, 2014-01-01 to 2018-01-01\n",
      "Data columns (total 12 columns):\n",
      " #   Column       Non-Null Count   Dtype  \n",
      "---  ------       --------------   -----  \n",
      " 0   slug         448694 non-null  object \n",
      " 1   symbol       448694 non-null  object \n",
      " 2   name         448694 non-null  object \n",
      " 3   ranknow      448694 non-null  int64  \n",
      " 4   open         448694 non-null  float64\n",
      " 5   high         448694 non-null  float64\n",
      " 6   low          448694 non-null  float64\n",
      " 7   close        448694 non-null  float64\n",
      " 8   volume       448694 non-null  float64\n",
      " 9   market       448694 non-null  float64\n",
      " 10  close_ratio  448694 non-null  float64\n",
      " 11  spread       448694 non-null  float64\n",
      "dtypes: float64(8), int64(1), object(3)\n",
      "memory usage: 44.5+ MB\n",
      "None\n",
      "             ranknow          open          high           low         close  \\\n",
      "count  448694.000000  4.486940e+05  4.486940e+05  4.486940e+05  4.486940e+05   \n",
      "mean     1022.362724  2.601024e+02  3.208119e+02  2.092317e+02  2.598370e+02   \n",
      "std       576.827595  1.065661e+04  1.408141e+04  7.940715e+03  1.060412e+04   \n",
      "min         1.000000  2.500000e-09  3.200000e-09  2.500000e-10  2.000000e-10   \n",
      "25%       500.000000  6.260000e-04  7.310000e-04  5.450000e-04  6.270000e-04   \n",
      "50%      1212.000000  9.889000e-03  1.141100e-02  8.627000e-03  9.907000e-03   \n",
      "75%      1482.000000  1.488828e-01  1.674728e-01  1.334330e-01  1.495517e-01   \n",
      "max      2071.000000  2.298390e+06  2.926100e+06  2.030590e+06  2.300740e+06   \n",
      "\n",
      "             volume        market    close_ratio        spread  \n",
      "count  4.486940e+05  4.486940e+05  448694.000000  4.486940e+05  \n",
      "mean   4.832159e+06  1.234126e+08       0.459268  1.115798e+02  \n",
      "std    1.428319e+08  2.929162e+09       0.335029  7.421745e+03  \n",
      "min    0.000000e+00  0.000000e+00      -1.000000  0.000000e+00  \n",
      "25%    5.300000e+01  1.626925e+04       0.150400  0.000000e+00  \n",
      "50%    8.080000e+02  1.510835e+05       0.431200  0.000000e+00  \n",
      "75%    1.890250e+04  1.877137e+06       0.753000  3.000000e-02  \n",
      "max    2.219800e+10  3.265025e+11       1.000000  1.770563e+06  \n",
      "slug           0\n",
      "symbol         0\n",
      "name           0\n",
      "ranknow        0\n",
      "open           0\n",
      "high           0\n",
      "low            0\n",
      "close          0\n",
      "volume         0\n",
      "market         0\n",
      "close_ratio    0\n",
      "spread         0\n",
      "dtype: int64\n",
      "0\n",
      "2014-01-01 00:00:00\n",
      "2018-01-01 00:00:00\n"
     ]
    }
   ],
   "source": [
    "\n",
    "print(df.info())\n",
    "print(df.describe())\n",
    "# kiểm tra missing data\n",
    "print(df.isna().sum())\n",
    "\n",
    "# Kiểm tra có dữ liệu bị duplicate không\n",
    "print(str(df.duplicated().sum()))\n",
    "\n",
    "# Kiểm ra khoản thời gian của dữ liệu\n",
    "print(df.index.min())\n",
    "print(df.index.max())"
   ]
  },
  {
   "attachments": {},
   "cell_type": "markdown",
   "metadata": {},
   "source": [
    "- 0 Nan\n",
    "- 1380 duplicated\n",
    "- Dữ liệu thu thập được từ 2013-04-28 đến 2018-11-30\n",
    "\n",
    "Dữ liệu tương đối sạch ta chỉ cần phải tiền xử lý dữ liệu thêm 1 chút."
   ]
  },
  {
   "cell_type": "code",
   "execution_count": 5,
   "metadata": {},
   "outputs": [
    {
     "name": "stdout",
     "output_type": "stream",
     "text": [
      "               slug symbol     name  ranknow    open    high     low   close  \\\n",
      "date                                                                           \n",
      "2014-01-01  bitcoin    BTC  Bitcoin        1  754.97  775.35  754.97  771.40   \n",
      "2014-01-02  bitcoin    BTC  Bitcoin        1  773.44  820.31  767.21  802.39   \n",
      "2014-01-03  bitcoin    BTC  Bitcoin        1  802.85  834.15  789.12  818.72   \n",
      "2014-01-04  bitcoin    BTC  Bitcoin        1  823.27  859.51  801.67  859.51   \n",
      "2014-01-05  bitcoin    BTC  Bitcoin        1  858.55  952.40  854.52  933.53   \n",
      "\n",
      "                volume        market  close_ratio  spread  \n",
      "date                                                       \n",
      "2014-01-01  22489400.0  9.403308e+09       0.8062   20.38  \n",
      "2014-01-02  38489500.0  9.781074e+09       0.6625   53.10  \n",
      "2014-01-03  37810100.0  9.980135e+09       0.6573   45.03  \n",
      "2014-01-04  38005000.0  1.047736e+10       1.0000   57.84  \n",
      "2014-01-05  72898496.0  1.137966e+10       0.8072   97.88                    slug symbol       name  ranknow      open       high  \\\n",
      "date                                                                    \n",
      "2017-12-28  project-x  NANOX  Project-X     1727  853376.0  1217350.0   \n",
      "2017-12-29  project-x  NANOX  Project-X     1727  953410.0  1034770.0   \n",
      "2017-12-30  project-x  NANOX  Project-X     1727  710293.0   803780.0   \n",
      "2017-12-31  project-x  NANOX  Project-X     1727  433564.0   517624.0   \n",
      "2018-01-01  project-x  NANOX  Project-X     1727  433421.0   433717.0   \n",
      "\n",
      "                 low     close   volume   market  close_ratio    spread  \n",
      "date                                                                     \n",
      "2017-12-28  289847.0  943642.0  37305.0  73853.0       0.7049  927503.0  \n",
      "2017-12-29  502151.0  712084.0  23790.0  55731.0       0.3942  532619.0  \n",
      "2017-12-30  398776.0  438298.0  15726.0  34303.0       0.0976  405004.0  \n",
      "2017-12-31  407182.0  431750.0  12313.0  33790.0       0.2225  110442.0  \n",
      "2018-01-01  317219.0  320008.0  12166.0  25045.0       0.0239  116498.0  \n"
     ]
    }
   ],
   "source": [
    "# xữ lý dữ liệu duplicate và missing\n",
    "df.drop_duplicates(inplace=True)\n",
    "df.fillna(method='ffill', inplace=True)\n",
    "\n",
    "# chọn lấy dữ liệu từ 2014-01-01 đến 2018-01-01\n",
    "df=df.loc['2014-01-01':'2018-01-01']\n",
    "print(df.head(),df.tail())"
   ]
  },
  {
   "attachments": {},
   "cell_type": "markdown",
   "metadata": {},
   "source": [
    "### <span style=\"color:yellow\"> C. Khám phá mối quan hệ trong dữ liệu</span>"
   ]
  }
 ],
 "metadata": {
  "kernelspec": {
   "display_name": "Python 3",
   "language": "python",
   "name": "python3"
  },
  "language_info": {
   "codemirror_mode": {
    "name": "ipython",
    "version": 3
   },
   "file_extension": ".py",
   "mimetype": "text/x-python",
   "name": "python",
   "nbconvert_exporter": "python",
   "pygments_lexer": "ipython3",
   "version": "3.10.10"
  },
  "orig_nbformat": 4
 },
 "nbformat": 4,
 "nbformat_minor": 2
}
