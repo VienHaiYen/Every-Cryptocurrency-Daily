{
 "cells": [
  {
   "attachments": {},
   "cell_type": "markdown",
   "metadata": {},
   "source": [
    "# LAB 02: Cryptocurrency Daily Market Price"
   ]
  },
  {
   "attachments": {},
   "cell_type": "markdown",
   "metadata": {},
   "source": [
    "## Thông tin người thực hiện\n",
    "|  MSSV |Họ và tên   |\n",
    "|---|---|\n",
    "|  20120095 |Ngô Quang Hưng   |\n",
    "|  20120519|Nguyễn Thị Thúy Liễu   |\n",
    "|  20120540|Võ Hoàng Thảo Nguyên   |\n",
    "|  20120633|Viên Hải Yến   |\n",
    "|  20120634|Lê Minh Trí   |\n"
   ]
  },
  {
   "attachments": {},
   "cell_type": "markdown",
   "metadata": {},
   "source": [
    "## Mô tả đồ án"
   ]
  },
  {
   "cell_type": "markdown",
   "metadata": {},
   "source": []
  },
  {
   "attachments": {},
   "cell_type": "markdown",
   "metadata": {},
   "source": [
    "Import các thư viện"
   ]
  },
  {
   "cell_type": "code",
   "execution_count": null,
   "metadata": {},
   "outputs": [],
   "source": [
    "import numpy as np\n",
    "import pandas as pd\n",
    "import seaborn as sns\n",
    "import matplotlib.pyplot as plt\n",
    "import plotly.express as px\n",
    "from datetime import datetime, timedelta\n",
    "import warnings\n",
    "import plotly.graph_objects as go\n",
    "from plotly.subplots import make_subplots"
   ]
  },
  {
   "attachments": {},
   "cell_type": "markdown",
   "metadata": {},
   "source": [
    "### <span style=\"color:yellow\"> A. Thu thập dữ liệu</span>"
   ]
  },
  {
   "attachments": {},
   "cell_type": "markdown",
   "metadata": {},
   "source": [
    "#### Ngữ cảnh thực hiện tìm kiếm dữ liệu"
   ]
  },
  {
   "attachments": {},
   "cell_type": "markdown",
   "metadata": {},
   "source": [
    "Đây là thời đại công nghê số nơi mà thị trường điện tử phát triển mạnh mẽ và được nhiều người biết đến. Dataset này cung cấp thông tin chi tiết về lịch sử giao dịch của các loại tiền điện tử, bao gồm các chỉ số quan trọng như giá mở, giá cao, giá thấp, giá đóng cửa, khối lượng giao dịch và vốn hóa thị trường, ...\\\n",
    "Bộ dữ liệu lưu trữ trong khoảng thời gian từ năm 2013-2018 về nhiều loại tiền ảo ở các thời gian gần nhau để thấy được sự chênh lệch trong các khoảng thời gian xác định."
   ]
  },
  {
   "attachments": {},
   "cell_type": "markdown",
   "metadata": {},
   "source": [
    "#### Chủ đề"
   ]
  },
  {
   "attachments": {},
   "cell_type": "markdown",
   "metadata": {},
   "source": [
    "Time-series, phân tích độ trending, rủi ro, tầm phát triển, thay đổi của thị trường Crypo từ năm 2013-2018"
   ]
  },
  {
   "attachments": {},
   "cell_type": "markdown",
   "metadata": {},
   "source": [
    "#### Nguồn"
   ]
  },
  {
   "attachments": {},
   "cell_type": "markdown",
   "metadata": {},
   "source": [
    "Dataset trên Kaggle: [Tại đây](https://www.kaggle.com/datasets/jessevent/all-crypto-currencies?fbclid=IwAR1ClYMb9dVjpBwOPuqJfWkRf5gLsukrWscsuV_okKL4X6Q9e7JkjcGtdQ8)"
   ]
  },
  {
   "attachments": {},
   "cell_type": "markdown",
   "metadata": {},
   "source": [
    "#### Người ta có cho phép sử dụng dữ liệu như thế này hay không?"
   ]
  },
  {
   "attachments": {},
   "cell_type": "markdown",
   "metadata": {},
   "source": [
    "Theo thông tin License của dữ liệu, người dùng được phép tự do chia sẻ, sửa đổi và sử dụng dữ liệu trong khi duy trì sự tự do tương tự cho người dùng khác."
   ]
  },
  {
   "attachments": {},
   "cell_type": "markdown",
   "metadata": {},
   "source": [
    "#### Người ta đã thu thập dữ liệu này như thế nào? Phương pháp thực hiện là gì?"
   ]
  },
  {
   "attachments": {},
   "cell_type": "markdown",
   "metadata": {},
   "source": [
    "Phương pháp thu thập dữ liệu:\n",
    "- Thu thập thông tin bằng code và sử dụng CRAN của R (lưu trữ trực tuyến thường được sử dụng với R packages và các tài nguyên R khác).\n",
    "- Do đó, có những cải tiến đáng kể về cách một số chuyển đổi trường đã được thực hiện và dữ liệu được làm sạch."
   ]
  },
  {
   "attachments": {},
   "cell_type": "markdown",
   "metadata": {},
   "source": [
    "#### Đọc dữ liệu"
   ]
  },
  {
   "cell_type": "code",
   "execution_count": null,
   "metadata": {},
   "outputs": [],
   "source": [
    "# dateparse = lambda dates: pd.datetime.strptime(dates, '%Y-%m-%d')\n",
    "df = pd.read_csv('./dataset/crypto-markets.csv', parse_dates=['date'], index_col='date')\n",
    "df.head()"
   ]
  },
  {
   "attachments": {},
   "cell_type": "markdown",
   "metadata": {},
   "source": [
    "----"
   ]
  },
  {
   "attachments": {},
   "cell_type": "markdown",
   "metadata": {},
   "source": [
    "### <span style=\"color:yellow\"> B. Khám phá dữ liệu</span>"
   ]
  },
  {
   "attachments": {},
   "cell_type": "markdown",
   "metadata": {},
   "source": [
    "#### Mỗi dòng có ý nghĩa gì? Có vấn đề các dòng có ý nghĩa khác nhau không?"
   ]
  },
  {
   "attachments": {},
   "cell_type": "markdown",
   "metadata": {},
   "source": [
    "- Mỗi dòng chứa dữ liệu về một loại tiền ảo và các thông tin liên quan trong một thời điểm cụ thể. Thông tin bao gồm: thời gian công bố, tên loại tiền, tên viết tắt, xếp hạng, giá mở cửa, giá đóng cửa, giá cao nhất giá thấp nhất, khối lượng giao dịch, vốn hoá thị trường, chênh lệch giữa giá mua và giá bán ,tỉ lệ đóng.\n",
    "\n",
    "- ví dụ dòng 1: tiền bitcoin có xếp hạng là 1, giá mở là 135.3, giá đóng là 134.21, giá cao nhất là 135.98, giá thấp nhất là 132.10, khối lượng giao dịch là 0, vốn hoá thị trường là 1.488567e+09, tỉ lệ đóng 0.5438, chênh lệch giá mua và giá bán là 3.88.\n",
    "\n",
    "- Không có tình trạng các dòng có ý nghĩa khác nhau.\n"
   ]
  },
  {
   "attachments": {},
   "cell_type": "markdown",
   "metadata": {},
   "source": [
    "#### Mỗi cột có ý nghĩa gì?"
   ]
  },
  {
   "cell_type": "code",
   "execution_count": null,
   "metadata": {},
   "outputs": [],
   "source": [
    "column=11\n",
    "print(\"column \", column,\": \", df.columns[column])\n",
    "print(\"size: \", len(df.loc[:, df.columns[column]]))\n",
    "print(\"number of values: \", len(df.loc[:, df.columns[column]].unique()))\n",
    "\n",
    "arr= df.loc[:, df.columns[column]].unique()\n",
    "\n",
    "nanIndex=-1\n",
    "for index in range(len(arr)):\n",
    "    if isinstance(arr[index], float) and np.isnan(arr[index]):\n",
    "        nanIndex=index\n",
    "        break\n",
    "if nanIndex != -1:\n",
    "    arr=np.delete(arr,nanIndex)\n",
    "\n",
    "print(\"number of values (without nan): \", len(arr))\n",
    "print(\"data (without nan) : \", arr[0])\n",
    "print(\"data (without nan) : \", arr[1])\n",
    "print(\"data (without nan) : \", arr[2])\n",
    "print(\"data (without nan) : \", arr[3])\n",
    "\n",
    "print(min(arr))\n",
    "print(max(arr))\n",
    "print(np.mean(arr))\n",
    "# print(\"data (without nan) : \", ', '.join(arr))"
   ]
  },
  {
   "attachments": {},
   "cell_type": "markdown",
   "metadata": {},
   "source": [
    "#### Thông tin mỗi cột"
   ]
  },
  {
   "attachments": {},
   "cell_type": "markdown",
   "metadata": {},
   "source": [
    "- Slug: Tên loại tiền\n",
    "    - Kích thước: 942297\n",
    "    - Số lượng dữ liệu không trùng lắp: 2071\n",
    "    - Một số dữ liệu: bitcoin, ripple, ethereum, stellar, bitcoin-cash,...\n",
    "- symbol: tên viết tắt của loại tiền\n",
    "    - Kích thước: 942297\n",
    "    - Số lượng dữ liệu không trùng lắp: 2005\n",
    "    - Một số dữ liệu:  BTC, XRP, ETH, XLM, BCH, EOS, LTC, USDT, BSV, ADA,...\n",
    "- name: tên loại tiền\n",
    "    - Kích thước: 942297\n",
    "    - Số lượng dữ liệu không trùng lắp: 2071\n",
    "    - Một số dữ liệu:  Bitcoin, XRP, Ethereum, Stellar, Bitcoin Cash, EOS,...\n",
    "- ranknow: xếp hạng\n",
    "    - Kích thước: 942297\n",
    "    - Số lượng dữ liệu không trùng lắp: 2068\n",
    "    - Một số dữ liệu:  1,2,3,...,2070,2071,2072.\n",
    "- open: giá mở\n",
    "    - Kích thước: 942297\n",
    "    - Số lượng dữ liệu không trùng lắp: 266140\n",
    "    - Một số dữ liệu:  135.3, 134.44, 144.,...,23320.9, 24543.53, 22872.09\n",
    "    - min: 2.5e-09\n",
    "    - max: 2298390.0\n",
    "    - Trung bình: 1222.88\n",
    "- high: gía cao nhất\n",
    "    - Kích thước: 942297\n",
    "    - Số lượng dữ liệu không trùng lắp: 269676\n",
    "    - Một số dữ liệu:  135.98, 147.49, 146.93, ... ,25235.1,  24582.47, 23086.98\n",
    "    - min: 3.2e-09\n",
    "    - max: 2926100.0\n",
    "    - Trung bình: 1417.51\n",
    "- low: gía thấp nhất\n",
    "    - Kích thước: 942297\n",
    "    - Số lượng dữ liệu không trùng lắp: 263008\n",
    "    - Một số dữ liệu:  132.1, 134., 134.05, ... ,19888.1,  21457.95, 19040.91\n",
    "    - min: 2.5e-10\n",
    "    - max: 2030590.0\n",
    "    - Trung bình: 1052.11\n",
    "- close: gía đóng\n",
    "    - Kích thước: 942297\n",
    "    - Số lượng dữ liệu không trùng lắp: 265887\n",
    "    - Một số dữ liệu:  134.21, 144.54, 139., ... ,24442.7,  22839.44, 21136.72\n",
    "    - min: 2e-10\n",
    "    - max: 2300740.0\n",
    "    - Trung bình: 1215.35\n",
    "- volume: khối lượng giao dịch\n",
    "    - Kích thước: 942297\n",
    "    - Số lượng dữ liệu không trùng lắp: 300528\n",
    "    - Một số dữ liệu:  0, 46862700.0, 32505800.0, 19011300.0,...\n",
    "    - min: 0.0\n",
    "    - max: 23840899072.0\n",
    "    - Trung bình: 27175312.58\n",
    "- market: vốn hoá thị trường\n",
    "    - Kích thước: 942297\n",
    "    - Số lượng dữ liệu không trùng lắp: 660996\n",
    "    - Một số dữ liệu:  1488566728.0, 1603768865.0, 1542813125.0, 1298954594.0,...\n",
    "    - min: 0.0\n",
    "    - max: 326502485530.0\n",
    "    - Trung bình: 245833831.28\n",
    "- spread: chênh lệch giá mua và giá bán\n",
    "    - Kích thước: 942297\n",
    "    - Số lượng dữ liệu không trùng lắp: 12454\n",
    "    - Một số dữ liệu:  3.88, 13.49, 12.88, 32.17,...\n",
    "    - min: 0\n",
    "    - max: 1770563.0\n",
    "    - Trung bình: 8472.75\n",
    "- close_ratio: tỉ lệ đóng\n",
    "    - Kích thước: 942297\n",
    "    - Số lượng dữ liệu không trùng lắp: 10022\n",
    "    - Một số dữ liệu:  0.5438, 0.7813, 0.3843, 0.2882,...\n",
    "    - min: -1.0\n",
    "    - max: 1\n",
    "    - Trung bình: 0.49"
   ]
  },
  {
   "attachments": {},
   "cell_type": "markdown",
   "metadata": {},
   "source": [
    "#### Mỗi cột hiện đang có kiểu dữ liệu gì?"
   ]
  },
  {
   "cell_type": "code",
   "execution_count": null,
   "metadata": {},
   "outputs": [],
   "source": [
    "df.dtypes"
   ]
  },
  {
   "cell_type": "code",
   "execution_count": null,
   "metadata": {},
   "outputs": [],
   "source": [
    "object_columns = df.select_dtypes(include=['object']).columns\n",
    "for col in object_columns:\n",
    "    print(col,\":\",set(df[col].apply(type)))"
   ]
  },
  {
   "attachments": {},
   "cell_type": "markdown",
   "metadata": {},
   "source": [
    "#### Có cột nào có kiểu dữ liệu chưa phù hợp để có thể xử lý tiếp hay không?"
   ]
  },
  {
   "attachments": {},
   "cell_type": "markdown",
   "metadata": {},
   "source": [
    "Các cột đã ở kiểu dữ liệu phù hợp để phân tích"
   ]
  },
  {
   "attachments": {},
   "cell_type": "markdown",
   "metadata": {},
   "source": [
    "#### Phân bố dữ liệu ở các cột"
   ]
  },
  {
   "attachments": {},
   "cell_type": "markdown",
   "metadata": {},
   "source": [
    "##### Với mỗi cột có kiểu dữ liệu dạng numeric, các giá trị được phân bố như thế nào?"
   ]
  },
  {
   "cell_type": "code",
   "execution_count": null,
   "metadata": {},
   "outputs": [],
   "source": [
    "numerical_des = df.describe()\n",
    "missing_ratio = pd.DataFrame({col : df[col].isnull().sum() / len(df) for col in numerical_des.columns}, index=[\"missing_ratio\"])\n",
    "pd.concat([numerical_des,missing_ratio])"
   ]
  },
  {
   "attachments": {},
   "cell_type": "markdown",
   "metadata": {},
   "source": [
    "##### Với mỗi cột không có kiểu dữ liệu dạng categorical, các giá trị được phân bố như thế nào?"
   ]
  },
  {
   "cell_type": "code",
   "execution_count": null,
   "metadata": {},
   "outputs": [],
   "source": [
    "cate_rows=[\"missing_ratio\",\"nums_of_vals\", \"num_diff_vals\",\"diff_vals\"]\n",
    "data_cate={}\n",
    "\n",
    "for col in df.columns:\n",
    "    if df[col].dtype == 'object':\n",
    "        row=[]\n",
    "        row.append(round(df[col].isnull().sum()/len(df[col])*100,3))\n",
    "        data_cate.update({f'{col}':row})\n",
    "\n",
    "        row.append(len(df[col].notna()))\n",
    "        row.append(len(df[col][df[col].notna()].unique()))\n",
    "        row.append(np.array(df[col][df[col].notna()].unique()))\n",
    "        data_cate.update({f'{col}':row})\n",
    "\n",
    "cate_col_df=pd.DataFrame(data_cate,index=cate_rows)\n",
    "display(cate_col_df)"
   ]
  },
  {
   "attachments": {},
   "cell_type": "markdown",
   "metadata": {},
   "source": [
    "#### Tiền xử lí dữ liệu"
   ]
  },
  {
   "cell_type": "code",
   "execution_count": null,
   "metadata": {},
   "outputs": [],
   "source": [
    "\n",
    "print(df.info())\n",
    "print(df.describe())\n",
    "# kiểm tra missing data\n",
    "print(df.isna().sum())\n",
    "\n",
    "# Kiểm tra có dữ liệu bị duplicate không\n",
    "print(str(df.duplicated().sum()))\n",
    "\n",
    "# Kiểm ra khoản thời gian của dữ liệu\n",
    "print(df.index.min())\n",
    "print(df.index.max())"
   ]
  },
  {
   "attachments": {},
   "cell_type": "markdown",
   "metadata": {},
   "source": [
    "- 0 Nan\n",
    "- 1380 duplicated\n",
    "- Dữ liệu thu thập được từ 2013-04-28 đến 2018-11-30\n",
    "\n",
    "Dữ liệu tương đối sạch ta chỉ cần phải tiền xử lý dữ liệu thêm 1 chút."
   ]
  },
  {
   "cell_type": "code",
   "execution_count": null,
   "metadata": {},
   "outputs": [],
   "source": [
    "# xữ lý dữ liệu duplicate và missing\n",
    "df.drop_duplicates(inplace=True)\n",
    "df.fillna(method='ffill', inplace=True)\n",
    "\n",
    "# chọn lấy dữ liệu từ 2014-01-01 đến 2018-01-01\n",
    "df=df.loc['2014-01-01':'2018-01-01']\n",
    "print(df.head(),df.tail())"
   ]
  },
  {
   "attachments": {},
   "cell_type": "markdown",
   "metadata": {},
   "source": [
    "### <span style=\"color:yellow\"> C. Khám phá mối quan hệ trong dữ liệu</span>"
   ]
  },
  {
   "attachments": {},
   "cell_type": "markdown",
   "metadata": {},
   "source": [
    "### Xu hướng thị trường tiền ảo giai đoạn 2014-2018:\n",
    "- Chỉ xét top 5 loại tiền đứng đầu"
   ]
  },
  {
   "cell_type": "code",
   "execution_count": null,
   "metadata": {},
   "outputs": [],
   "source": [
    "df_temp=df\n",
    "df_temp['market_billion'] = df_temp['market'] / 1000000000\n",
    "df_temp['volume_million'] = df_temp['volume'] / 1000000000\n",
    "df_temp['volume_billion'] = df_temp['volume']"
   ]
  },
  {
   "cell_type": "code",
   "execution_count": null,
   "metadata": {},
   "outputs": [],
   "source": [
    "top_5_currency_names = df_temp.groupby(['name'])['market'].last().sort_values(ascending=False).head(5).index\n",
    "data_top_5_currencies = df_temp[df_temp['name'].isin(top_5_currency_names)]\n",
    "data_top_5_currencies.head(5)\n",
    "\n",
    "ax = data_top_5_currencies.groupby(['date', 'name'])['close'].mean().unstack().plot();\n",
    "ax.set_ylabel(\"Giá một đơn vị(USD)\");\n",
    "plt.title(\"Giá một đơn vị trên mỗi loại tiền\");\n",
    "\n",
    "ax = data_top_5_currencies.groupby(['date', 'name'])['market_billion'].mean().unstack().plot();\n",
    "ax.set_ylabel(\"Vốn hoá thị trường (billion USD)\");\n",
    "plt.title(\"Vốn hoá thị trường trên mỗi loại tiền\");\n",
    "\n",
    "ax = data_top_5_currencies.groupby(['date', 'name'])['volume_million'].mean().unstack().plot();\n",
    "ax.set_ylabel(\"Khối lượng giao dịch (million)\");\n",
    "plt.title(\"Khối lượng giao dịch trên mỗi loại tiền\");"
   ]
  },
  {
   "attachments": {},
   "cell_type": "markdown",
   "metadata": {},
   "source": [
    "- Nhóm đồ thị trên đã sử dụng kĩ thuật Static layers: Superimposed Line Charts, được giới thiệu trong bài Facet: \n",
    "    - Sử dụng kĩ thuật này để hiển thị toàn bộ 5 đường tương ứng với 5 loại tiền ảo vào cùng một khung đồ thị (xét trong cùng một khung thời gian như nhau đối với từng loại tiền ảo).\n",
    "    - Khi đó, sẽ có cái nhìn trực quan hơn khi nhìn vào đồ thị, cũng có thể dễ dàng so sánh 5 loại tiền ảo với nhau, điều này sẽ khó có được hiển thị từng đường cho từng loại tiền ảo trên một khung đồ thị riêng biệt. Từ đó, dễ dàng hơn trong việc đưa ra đánh giá.\n"
   ]
  },
  {
   "attachments": {},
   "cell_type": "markdown",
   "metadata": {},
   "source": [
    "    \n",
    "- Nhận xét:\n",
    "    - Về Giá của mỗi đơn vị tiền tệ: tiền ảo Bitcoin luôn có giá trị cao nhất và trong giai đoạn nửa cuối năm 2017 - đầu năm 2018, giá của Bitcoin cao hơn hẳn các loại tiền còn lại, thậm chí có lúc cao hơn gấp gần 4 lần so với đồng tiền đứng thứ hai.\n",
    "    - Về Vốn hoá thị trường: tương tự như giá, về vốn hoá thị trường Bitcoin vẫn luôn dẫn đầu, trong giai đoạn nửa cuối năm 2017 - đầu năm 2018, giới hạn thị trường của Bitcoin cao hơn hẳn các loại tiền còn lại, thậm chí có lúc cao hơn gấp gần 3 lần so với đồng tiền đứng thứ hai.\n",
    "    - Về Khối lượng giao dịch: giai đoạn từ 2014 đến nửa đầu 2017, khối lượng giao dịch của tất cả các loại tiền ảo đều gần như bằng 0. Sang nửa cuối năm 2017 - đầu năm 2018 khối lượng giao dịch tăng lên rõ rệt, đứng đầu là Bitcoin với khối lượng giao dịch đứng đầu.\n",
    "\n",
    "    => Từ đó, ta thấy giai đoạn từ 2014 đến nửa đầu 2017 thị trường tiền ảo chưa phát triển, nhưng sang giai đoạn nửa cuối năm 2017 - đầu năm 2018 là giai đoạn bùng nổ của thị trường tiền ảo: tiền ảo có giá trị hơn, lượng giao dịch lớn mỗi ngày, đặc biệt là sự tăng trưởng mạnh mẽ của tiền ảo Bitcoin.\n"
   ]
  },
  {
   "attachments": {},
   "cell_type": "markdown",
   "metadata": {},
   "source": [
    "#### Giả sử đầu tư 1000 USD tại một số thời điểm thì ROI thu được như thế nào?"
   ]
  },
  {
   "cell_type": "code",
   "execution_count": null,
   "metadata": {},
   "outputs": [],
   "source": [
    "df_temp=df\n",
    "wide_format = df_temp.groupby(['date', 'name'])['close'].last().unstack()"
   ]
  },
  {
   "cell_type": "code",
   "execution_count": null,
   "metadata": {},
   "outputs": [],
   "source": [
    "def plot_roi(amount, df):\n",
    "    ((amount / df.iloc[0]) * df).plot(figsize=(12,8))\n",
    "\n",
    "wide_format_2017th = wide_format[(wide_format.index.year >= 2017)]\n",
    "plot_roi(1000, wide_format_2017th[top_5_currency_names])"
   ]
  },
  {
   "attachments": {},
   "cell_type": "markdown",
   "metadata": {},
   "source": [
    "- Đồ thị trên đã sử dụng kĩ thuật Static layers: Superimposed Line Charts, được giới thiệu trong bài Facet: \n",
    "    - Sử dụng kĩ thuật này để hiển thị các đường tương ứng với các loại tiền ảo vào cùng một khung đồ thị (xét trong cùng một khung thời gian như nhau đối với từng loại tiền ảo).\n",
    "    - Khi đó, sẽ có cái nhìn trực quan hơn khi nhìn vào đồ thị, cũng có thể dễ dàng so sánh các loại tiền ảo với nhau, điều này sẽ khó có được hiển thị từng đường cho từng loại tiền ảo trên một khung đồ thị riêng biệt. Từ đó, dễ dàng hơn trong việc đưa ra đánh giá."
   ]
  },
  {
   "attachments": {},
   "cell_type": "markdown",
   "metadata": {},
   "source": [
    "- Nhận xét:\n",
    "    - Cùng đầu tư một số tiền là 1000 USD cho các loại tiền, nhìn vào đồ thị ta thấy ROI (Hệ số thu nhập trên đầu tư) của tiền ảo XRP có nhiều biến động và cao nhất, hơn hẳn các loại tiền kháng vào giai đoạn tháng 12/2017.\n",
    "    - Còn với tiền ảo Ethereum thì ROI phát triển khá ổn định, có xu hướng tăng dần.\n",
    "    - Trong khi đó, tiền ảo Bitcoin lại gây thấy vọng khi lượng ROI thấp hơn hẳn 2 loại tiền còn lại và phát triển khá chậm."
   ]
  },
  {
   "attachments": {},
   "cell_type": "markdown",
   "metadata": {},
   "source": [
    "### Tổng khối lượng giao dịch theo từng loại tiền ảo:"
   ]
  },
  {
   "cell_type": "code",
   "execution_count": null,
   "metadata": {},
   "outputs": [],
   "source": [
    "df_temp=df\n",
    "currency  = []\n",
    "volume = []\n",
    "name = df_temp['name'].unique()\n",
    "x_currencies = name[:10]\n",
    "for i, cn in enumerate(x_currencies):\n",
    "     filtered = df_temp[(df_temp['name']==str(cn))]\n",
    "     currency.append(str(cn))\n",
    "     volume.append(filtered['volume'].values[0])\n",
    "        \n",
    "f, ax = plt.subplots(figsize=(20, 8)) \n",
    "g = sns.barplot( y = currency, x = volume, palette=sns.cubehelix_palette(10, reverse=True))\n",
    "plt.title(\"Tổng khối lượng giao dịch theo từng loại tiền\")\n",
    "ax.set_xticklabels(ax.get_xticks())\n",
    "fig=plt.gcf()\n",
    "plt.show()"
   ]
  },
  {
   "attachments": {},
   "cell_type": "markdown",
   "metadata": {},
   "source": [
    "- Đồ thị trên đã sử dụng kĩ thuật Item Aggregation, cụ thể là đồ thị histogram, được giới thiệu trong bài Reduce: \n",
    "    - Sử dụng kĩ thuật này để hiển thị các cột tương ứng với các loại tiền ảo. Với các loại tiền ảo là các thùng chứa, còn số lượng chứa trong thùng là tổng khối lượng giao dịch của từng loại tiền ảo.\n",
    "    - Khi đó, sẽ có cái nhìn trực quan hơn khi nhìn vào đồ thị, cũng có thể dễ dàng so sánh các loại tiền ảo với nhau. Cách trực quan này giúp dễ so sánh về tổng số lượng giao dịch hơn so với việc không gom nhóm các loại tiền.\n",
    "    - Từ đó, dễ dàng hơn trong việc đưa ra đánh giá."
   ]
  },
  {
   "attachments": {},
   "cell_type": "markdown",
   "metadata": {},
   "source": [
    "- Nhận xét:\n",
    "    - Trong giai đoạn đang xét, ta thấy tổng số lượng giao dịch của tiền ảo Cardano cao nhất, cao gấp 2 lần so với loại tiền thứ hai là Bitcoin. Trong khi đó, khoảng cách giữa các loại tiền thứ 2, 3, 4 không rõ ràng như khoảng cách của tiền ảo Cardano và Bitcoin.\n",
    "    - Các loại tiền ảo còn lại gần như tổng khối lượng giao dịch gần như bằng không.\n",
    "    - Từ đó, ta thấy xu hướng giao dịch trong giai đoạn này là tiền Cardano."
   ]
  },
  {
   "attachments": {},
   "cell_type": "markdown",
   "metadata": {},
   "source": [
    "### Diễn biến giá mở của các loại tiền ảo trong từng giai đoạn"
   ]
  },
  {
   "cell_type": "code",
   "execution_count": null,
   "metadata": {},
   "outputs": [],
   "source": [
    "\n",
    "\n",
    "name = df_temp['name'].unique()\n",
    "currency  = name[:10]\n",
    "df_openPrice=df[(df_temp['name'].isin(currency))]\n",
    "# print(df_openPrice['date'])\n",
    "\n",
    "\n",
    "\n",
    "df_openPrice = df_openPrice[[\"name\", \"open\"]]\n",
    "df_openPrice = df_openPrice.sort_index()\n",
    "\n",
    "plt.figure(figsize=(15, 10))\n",
    "\n",
    "for name in currency:\n",
    "    data = df_openPrice[df_openPrice[\"name\"] == name]\n",
    "    plt.plot(data.index, data[\"open\"], label=name)\n",
    "plt.ylabel(\"Open price\")\n",
    "plt.title(\"Open price of cryptocurrencies over time\")\n",
    "plt.legend()\n",
    "plt.show()\n"
   ]
  },
  {
   "attachments": {},
   "cell_type": "markdown",
   "metadata": {},
   "source": [
    "- Đồ thị trên đã sử dụng kĩ thuật Static layers: Superimposed Line Charts, được giới thiệu trong bài Facet: \n",
    "    - Sử dụng kĩ thuật này để hiển thị các đường tương ứng với các loại tiền ảo vào cùng một khung đồ thị (xét trong cùng một khung thời gian như nhau đối với từng loại tiền ảo).\n",
    "    - Khi đó, sẽ có cái nhìn trực quan hơn khi nhìn vào đồ thị, cũng có thể dễ dàng so sánh các loại tiền ảo với nhau, điều này sẽ khó có được hiển thị từng đường cho từng loại tiền ảo trên một khung đồ thị riêng biệt. Từ đó, dễ dàng hơn trong việc đưa ra đánh giá.\n",
    "\n",
    "- Nhận xét:\n",
    "    - Ta có thể dễ dàng thấy được, giá mở không biến động nhiều trong giai đoạn từ 2014-01 đến 2017-01. Tuy nhiên, sau khoảng thời gian trên, giá mở các loại tiền ảo tăng chóng mặt, đặt biệt là Bitcoin với chiều tăng gần như dựng đứng. Điều đó cho thấy có một sự biến động vào năm 2017."
   ]
  },
  {
   "attachments": {},
   "cell_type": "markdown",
   "metadata": {},
   "source": [
    "### Tần suất giá đóng nhỏ hơn giá mở của 10 loại tiền ảo đầu tiên"
   ]
  },
  {
   "cell_type": "code",
   "execution_count": null,
   "metadata": {},
   "outputs": [],
   "source": [
    "df_tmp= df\n",
    "name = df_tmp['name'].unique()\n",
    "currency  = name[:10]\n",
    "df_tmp=df_tmp[(df_tmp['name'].isin(currency))]\n",
    "\n",
    "freq = (df_tmp['close'] < df_tmp['open']).groupby(df_tmp['name']).sum()\n",
    "freq = freq.sort_values(ascending=True)\n",
    "\n",
    "plt.figure(figsize=(15, 10))\n",
    "\n",
    "# freq.sort_values(freq.values)\n",
    "# vẽ đồ thị cột\n",
    "plt.bar(freq.index, freq.values)\n",
    "\n",
    "# đặt tên cho các trục và tiêu đề\n",
    "plt.xlabel('Tên tiền ảo')\n",
    "plt.ylabel('Số lần giá đóng thấp hơn giá mở')\n",
    "plt.title('Tần suất giá đóng nhỏ hơn giá mở của 10 loại tiền ảo đầu tiên')\n",
    "\n",
    "# hiển thị đồ thị\n",
    "plt.show()\n"
   ]
  },
  {
   "attachments": {},
   "cell_type": "markdown",
   "metadata": {},
   "source": [
    "- Đồ thị trên đã sử dụng kĩ thuật Item Aggregation, cụ thể là đồ thị histogram, được giới thiệu trong bài Reduce: \n",
    "    - Sử dụng kĩ thuật này để hiển thị các cột tương ứng với các loại tiền ảo. Với các loại tiền ảo là các thùng chứa, còn số lượng chứa trong thùng là số lần giá đóng thấp hơn giá mở của từng loại tiền ảo.\n",
    "    - Khi đó, sẽ có cái nhìn trực quan hơn khi nhìn vào đồ thị, cũng có thể dễ dàng so sánh các loại tiền ảo với nhau. Cách trực quan này giúp dễ so sánh về tổng số lượng giao dịch hơn so với việc không gom nhóm các loại tiền. Từ đó, dễ dàng hơn trong việc đưa ra đánh giá."
   ]
  },
  {
   "attachments": {},
   "cell_type": "markdown",
   "metadata": {},
   "source": [
    "- Nhận xét:\n",
    "    - Trong 10 loại tiền ảo đầu tiên, loại tiền ảo có số lần chênh lệch giá đóng với giá mở lớn nhất là XRP với khoảng 800 lần chênh lệch. Trong khi đó, Cardano thì có số lần chênh lệch cự kì ít, chỉ khoảng 50 lần chênh lệch.\n",
    "    - Từ đó ta cũng có thể dễ dàng nhận thấy, nếu thực hiện giao dịch mua bán trên ngày, trong 10 loại tiền ảo đầu tiên thì chọn XRP sẽ có khả năng thu lợi được nhiều nhất, bởi vì số lần tăng giá là khá cao."
   ]
  },
  {
   "attachments": {},
   "cell_type": "markdown",
   "metadata": {},
   "source": [
    "### Mô tả chuyển động giá của một chứng khoán theo thời gian: **BTC, ETH, ADA, BNB, DOGE**"
   ]
  },
  {
   "cell_type": "code",
   "execution_count": null,
   "metadata": {},
   "outputs": [],
   "source": [
    "df.reset_index(inplace=True)\n",
    "df.columns"
   ]
  },
  {
   "cell_type": "code",
   "execution_count": null,
   "metadata": {},
   "outputs": [],
   "source": [
    "numOfCandle = 150\n",
    "symbols = ['BTC', 'ETH', 'ADA', 'BNB', 'DOGE']\n",
    "df_filtered = df[df['symbol'].isin(symbols)]\n",
    "symbol_buttons = []\n",
    "\n",
    "\n",
    "GRAPH_PER_SYMBOL = 2\n",
    "for index, symbol in enumerate(symbols):\n",
    "    df_symbol = df[df['symbol'] == symbol]\n",
    "\n",
    "    vis = [False] * len(symbols) * GRAPH_PER_SYMBOL\n",
    "    for i in range(GRAPH_PER_SYMBOL):\n",
    "        vis[index*GRAPH_PER_SYMBOL + i] = True\n",
    "\n",
    "    symbol_buttons.append({'label': symbol,\n",
    "                           'method': 'update',\n",
    "                           'args': [{'visible': vis},\n",
    "                                    {'title': symbol + \" Charts\"}\n",
    "                                    ]}\n",
    "                          )\n",
    "\n",
    "fig = make_subplots(rows=3,\n",
    "                    cols=1,\n",
    "                    shared_xaxes=True,\n",
    "                    # specs=[[{\"rowspan\": 2}, {\"rowspan\": 2}], [{\"rowspan\": 1}, {\"rowspan\": 1}] , [{},{}]]\n",
    "                    specs=[[{\"rowspan\": 2}], [{\"rowspan\": 1}], [{}]],\n",
    "                    subplot_titles=('Candle Chart', '','Volume')\n",
    "                    )\n",
    "for symbol in symbols:\n",
    "    df_symbol = df[df['symbol'] == symbol]\n",
    "    df_symbol_by_day = df_symbol.sort_index(ascending=False)[:numOfCandle]\n",
    "    fig.add_trace(\n",
    "        go.Candlestick(x=df_symbol_by_day['date'],\n",
    "                       open=df_symbol_by_day['open'],\n",
    "                       high=df_symbol_by_day['high'],\n",
    "                       low=df_symbol_by_day['low'],\n",
    "                       close=df_symbol_by_day['close'],\n",
    "                       showlegend=False\n",
    "                       ),\n",
    "        row=1,\n",
    "        col=1)\n",
    "    colors=np.where(df_symbol_by_day['close'] > df_symbol_by_day['open'], \"green\", \"red\")\n",
    "    fig.add_trace(\n",
    "        go.Bar(x=df_symbol_by_day['date'],\n",
    "               y=df_symbol_by_day[\"volume\"],\n",
    "               showlegend=False,\n",
    "               marker=dict(color=colors)\n",
    "               ),\n",
    "        row=3,\n",
    "        col=1)\n",
    "for small_fig, visible in zip(fig.data, symbol_buttons[0]['args'][0]['visible']):\n",
    "    small_fig.visible = visible\n",
    "fig.update_layout(\n",
    "    updatemenus=[dict(type='dropdown',\n",
    "                      x=1.0,\n",
    "                      y=1.108,\n",
    "                      showactive=True,\n",
    "                      active=0,\n",
    "                      buttons=symbol_buttons)],\n",
    "    title=dict(text=symbol_buttons[0]['args'][1]['title']),\n",
    "    spikedistance=100,\n",
    "    height=650\n",
    ")\n",
    "fig.layout[\"xaxis3\"][\"rangeslider\"][\"visible\"] = True\n",
    "fig.layout[\"xaxis\"][\"rangeslider\"][\"visible\"] = False\n",
    "\n",
    "\n",
    "fig.show()\n"
   ]
  },
  {
   "attachments": {},
   "cell_type": "markdown",
   "metadata": {},
   "source": [
    "- Đồ thị trên đã sử dụng kĩ thuật Navigate (Range Slider), được giới thiệu trong bài Manipulate View:\n",
    "    - Kĩ thuật này cho phép người dùng tập trung vào các khoảng thời gian cụ thể bằng cách điều chỉnh phạm vi ngày cụ thể trên Range Slider. Điều này rất hữu ích khi dữ liệu bao phủ một khoảng thời gian dài, giúp người dùng tập trung vào các xu hướng hoặc sự kiện cụ thể.\n",
    "    - Ngoài ra, việc sử dụng Range Slider còn giúp giảm thiểu sự rối loạn trong biểu đồ bằng cách chỉ hiển thị một phần của dữ liệu mỗi lần. Điều này giúp người dùng dễ dàng giải thích biểu đồ trong phạm vi xác định và phân tích các xu hướng một cách dễ dàng hơn."
   ]
  },
  {
   "attachments": {},
   "cell_type": "markdown",
   "metadata": {},
   "source": [
    "**Nhận xét:**\n",
    "- Xét theo thị trường từ khoảng tháng 9 năm 2017 đến tháng 1 năm 2018, thị trường chứng khoáng có sự thay đổi chung. Cụ thể:\n",
    "  - Vào tháng 9, thị trường đang có mực tăng trưởng tốt, trừ EDA\n",
    "  - Từ tháng 10 đến tháng 11 thì có sự sụt giảm mạnh, chiều hướng giảm bao trùm toàn bộ dữ liệu trong các tháng này,\n",
    "  - Bắt đầu từ nửa sau tháng 12, thị trường có mức nhiệt tăng lên trở lại, tăng dần và đạt tới ngưỡng cao hơn thời điểm trước đó gấp nhiều lần ở hầu hết mọi chứng khoán. "
   ]
  },
  {
   "attachments": {},
   "cell_type": "markdown",
   "metadata": {},
   "source": [
    "### So sánh sự tăng trưởng của từng nhóm chứng khoán dựa theo vốn hóa thị trường. Mô tả sự sự chuyển động của một số loại tiền tiêu biểu trong từng nhóm."
   ]
  },
  {
   "cell_type": "code",
   "execution_count": null,
   "metadata": {},
   "outputs": [],
   "source": [
    "# Group the data by symbol and date, and calculate the average daily market price\n",
    "\n",
    "df_cap = df.groupby(['symbol', 'date'])['market'].mean().reset_index()\n",
    "\n",
    "# bins = [0, 1e9, 1e10, 1e11, float('inf')]\n",
    "# labels = ['< 1B', '1B - 10B', '10B - 100B', '> 100B']\n",
    "bins = [0, 1e9, 1e10, float('inf')]\n",
    "labels = ['< 1B', '1B - 10B', '> 10B']\n",
    "# Group the symbols by market capitalization\n",
    "df_label = df.groupby('symbol')['market'].max().reset_index().sort_values(by='market', ascending=False)\n",
    "df_label['label'] = pd.cut(df_label['market'], bins=bins, labels=labels)\n",
    "df_label = df_label.dropna()\n"
   ]
  },
  {
   "cell_type": "code",
   "execution_count": null,
   "metadata": {},
   "outputs": [],
   "source": [
    "legend_colors = [\"Blue\", \"Crimson\", \"Green\"]\n",
    "numOfSymbol_per_label = 3\n",
    "labels.reverse()\n",
    "\n",
    "fig = go.Figure()\n",
    "\n",
    "# All (grouped)\n",
    "for index_color, label in enumerate(labels):\n",
    "    symbols = df_label[df_label['label'] == label]['symbol'].to_list()\n",
    "    df_of_label = df_cap[df_cap['symbol'].isin(symbols)]\n",
    "    df_of_label = df_of_label.groupby('date')['market'].mean().reset_index()\n",
    "    fig.add_trace(\n",
    "        go.Scatter(x=df_of_label['date'], y=df_of_label['market'], mode='lines',\n",
    "                   line=dict(color=legend_colors[index_color]),\n",
    "                   name=label, legendgroup=\"group\")\n",
    "    )\n",
    "\n",
    "# Each label\n",
    "for index, label in enumerate(labels):\n",
    "    temp = df_label[df_label['label'] == label].sort_values(\n",
    "        by='market', ascending=False)\n",
    "    symbols = temp[:min(len(temp), numOfSymbol_per_label)]['symbol'].to_list()\n",
    "\n",
    "    small_figs = []\n",
    "    for color_index, symbol in enumerate(symbols):\n",
    "        df_of_symbol = df_cap[df_cap['symbol'] == symbol]\n",
    "        fig.add_trace(\n",
    "            go.Scatter(x=df_of_symbol['date'], y=df_of_symbol['market'], mode='lines',\n",
    "                       line=dict(color=legend_colors[color_index]),\n",
    "                       name=symbol,\n",
    "                       legendgroup=f'group{index+2}')\n",
    "        )\n",
    "\n",
    "buttons = [{'label': \"All\",\n",
    "            'method': 'update',\n",
    "            'args': [{'visible': [True, True, True] + [False] * numOfSymbol_per_label * len(labels)},\n",
    "                     {'title': \"All (Grouped)\"}\n",
    "                     ]}]\n",
    "for index, label in enumerate(labels):\n",
    "    vis = [False] * (len(labels) + numOfSymbol_per_label*len(labels))\n",
    "    for i in range(numOfSymbol_per_label):\n",
    "        vis[len(labels) + index*numOfSymbol_per_label + i] = True\n",
    "    buttons.append({'label': label,\n",
    "                    'method': 'update',\n",
    "                    'args': [{'visible': vis},\n",
    "                             {'title': f'Top {numOfSymbol_per_label} ' + f'({label})'}\n",
    "                             ]}\n",
    "                   )\n",
    "fig.update_layout(\n",
    "    updatemenus=[dict(type='dropdown',\n",
    "                      x=1.0,\n",
    "                      y=1.108,\n",
    "                      showactive=True,\n",
    "                      active=0,\n",
    "                      buttons=buttons)],\n",
    "    title=dict(text=buttons[0]['args'][1]['title']),\n",
    ")\n",
    "for small_fig, visible in zip(fig.data, buttons[0]['args'][0]['visible']):\n",
    "    small_fig.visible = visible\n",
    "fig.show()\n"
   ]
  },
  {
   "attachments": {},
   "cell_type": "markdown",
   "metadata": {},
   "source": [
    "- Đồ thị trên đã sử dụng kĩ thuật Item Aggregation, cụ thể là đồ thị histogram, được giới thiệu trong bài Reduce:\n",
    "    - Khi có quá nhiều biểu tượng, chúng có thể gây rối loạn và khó hiểu. Tuy nhiên, bằng cách nhóm các biểu tượng theo vốn hóa thị trường tương đồng, ta đã có thể giảm bớt sự rối loạn và tập trung vào các thông tin quan trọng hơn.\n",
    "    - Đồng thời, việc nhóm các biểu tượng theo vốn hóa thị trường cũng giúp ta dễ dàng nhận ra các xu hướng và tương quan tăng trưởng giữa các nhóm khác nhau. Nhờ đó, ta có thể đưa ra những quyết định và dự đoán chính xác hơn về sự phát triển của thị trường tiền điện tử."
   ]
  },
  {
   "attachments": {},
   "cell_type": "markdown",
   "metadata": {},
   "source": [
    "**Nhận xét:**\n",
    "- Đồ thị trên nhằm mục đích so sánh sự phát triển của 3 nhóm tiền điện tử: < 1B $, 1B $-> 10B $ và >10B $. Đại diện cho nhóm có vốn hóa thị trường thấp, trung bình và cao.\n",
    "- Xét khoảng thời gian từ 2014-2018, ta có được một số nhận định sau về sự khác biệt giữa 3 nhóm tiền ảo này:\n",
    "  - Nhóm có vốn hóa thị trường cao luôn luôn nắm giữ lợi thế so với 2 nhóm kia về cả mặt tăng trưởng lẫn mặt khối lượng giao dịch. Gấp rất nhiều lần (đặc biệt là trong thời gian bắt đầu từ 2017 đổ về sau)\n",
    "  - Nhóm có vốn hóa thị trường cao dẫn đầu là Bitcoin, có sức tăng mạnh mẽ vượt bậc với các loại tiền ảo khác trong cùng nhóm: 326 tỉ trong tháng 12 năm 2017. Nhóm này có xu hướng tăng bắt đầu từ đầu năm 2016 và tăng mạnh từ tháng 6 năm 2017\n",
    "  - Nhóm có vốn hóa thị trường trung bình có độ tăng trưởng vượt bậc từ tháng 4 năm 2017 và đế 2018 vẫn đang có xu hướng tăng nhanh.\n",
    "  - Nhóm có vốn hóa thị trường thấp thì có độ tăng trường từ giữa năm 2016, tuy nhiên không ổn định, có sự bất ổn trong quá trình phát triển."
   ]
  }
 ],
 "metadata": {
  "kernelspec": {
   "display_name": "Python 3",
   "language": "python",
   "name": "python3"
  },
  "language_info": {
   "codemirror_mode": {
    "name": "ipython",
    "version": 3
   },
   "file_extension": ".py",
   "mimetype": "text/x-python",
   "name": "python",
   "nbconvert_exporter": "python",
   "pygments_lexer": "ipython3",
   "version": "3.9.7"
  },
  "orig_nbformat": 4
 },
 "nbformat": 4,
 "nbformat_minor": 2
}
